{
 "cells": [
  {
   "cell_type": "markdown",
   "metadata": {
    "collapsed": false,
    "pycharm": {
     "name": "#%% md\n"
    }
   },
   "source": [
    "# Imdb movies scrapping with sentiment analysis"
   ]
  },
  {
   "cell_type": "markdown",
   "source": [
    "## Scrapping movies' data\n",
    "## Importing needed libraries"
   ],
   "metadata": {
    "collapsed": false,
    "pycharm": {
     "name": "#%% md\n"
    }
   }
  },
  {
   "cell_type": "code",
   "execution_count": 4,
   "metadata": {
    "collapsed": false,
    "pycharm": {
     "name": "#%%\n"
    }
   },
   "outputs": [],
   "source": [
    "import requests\n",
    "from bs4 import BeautifulSoup\n",
    "import pandas as pd\n",
    "from tqdm.auto import tqdm"
   ]
  },
  {
   "cell_type": "markdown",
   "metadata": {
    "collapsed": false,
    "pycharm": {
     "name": "#%% md\n"
    }
   },
   "source": [
    "### Requesting and scrapping  data"
   ]
  },
  {
   "cell_type": "code",
   "execution_count": 5,
   "metadata": {
    "collapsed": false,
    "pycharm": {
     "name": "#%%\n"
    }
   },
   "outputs": [
    {
     "data": {
      "text/plain": "  0%|          | 0/812 [00:00<?, ?it/s]",
      "application/vnd.jupyter.widget-view+json": {
       "version_major": 2,
       "version_minor": 0,
       "model_id": "fe0774a269ee4c4d8f9c564c97e0f6a7"
      }
     },
     "metadata": {},
     "output_type": "display_data"
    }
   ],
   "source": [
    "#Initialing\n",
    "movies_index=1\n",
    "movie_content_list = []\n",
    "url = \"https://www.imdb.com/search/title/?title_type=feature&genres=sci-fi&sort=num_votes,desc&count=250\"\n",
    "resp = requests.get(url)\n",
    "movies_content = BeautifulSoup(resp.content, 'lxml')\n",
    "\n",
    "with tqdm(total=812) as pbar:\n",
    "    while len(movie_content_list) < 800 :\n",
    "        movies_index = movies_index + 250\n",
    "        #scrapping and organizing data into dictionnary\n",
    "        for movie in movies_content.select('.lister-item-content'):\n",
    "\n",
    "            #Decomposing the scrapped web page into key:value dictionary\n",
    "            try:\n",
    "                data = {\n",
    "            \"id\": movie.find('a', href=True)['href'],\n",
    "            \"title\":movie.select('.lister-item-header a')[0].get_text().strip(),\n",
    "            \"year\":movie.select('.lister-item-year')[0].get_text().strip(),\n",
    "            \"genre\":movie.select('.genre')[0].get_text().strip(),\n",
    "            \"certificate\":movie.select('.certificate')[0].get_text().strip(),\n",
    "            \"time\":movie.select('.runtime')[0].get_text().strip(),\n",
    "            \"ImdbRating\":movie.select('.ratings-imdb-rating')[0].get_text().strip(),\n",
    "            \"metascore\":movie.select('.ratings-metascore span')[0].get_text().strip(),\n",
    "            \"votes\":movie.select('.sort-num_votes-visible span')[1].get_text().strip(),\n",
    "            \"simple_desc\":movie.select('.text-muted')[2].get_text().strip(),\n",
    "                }\n",
    "                #Updating TQDM progress bar\n",
    "                pbar.update(1)\n",
    "            #Skip if the movie is missing any of the needed values\n",
    "            except IndexError:\n",
    "                continue\n",
    "\n",
    "            #adding the dictionary to a list of dictionaries\n",
    "            movie_content_list.append(data)\n",
    "\n",
    "        #updating the url to next page and re-running the request and scrapping\n",
    "        url = f\"https://www.imdb.com/search/title/?title_type=feature&genres=sci-fi&sort=num_votes,desc&count=250&amp;start={movies_index}&amp;ref_=adv_nxt\"\n",
    "        resp = requests.get(url)\n",
    "        movies_content = BeautifulSoup(resp.content, 'lxml')\n"
   ]
  },
  {
   "cell_type": "markdown",
   "metadata": {
    "collapsed": false,
    "pycharm": {
     "name": "#%% md\n"
    }
   },
   "source": [
    "### Converting to Dataframe and cleaning\n"
   ]
  },
  {
   "cell_type": "code",
   "execution_count": 6,
   "metadata": {
    "collapsed": false,
    "pycharm": {
     "name": "#%%\n"
    }
   },
   "outputs": [
    {
     "data": {
      "text/plain": "                    id                                      title    year  \\\n0    /title/tt1375666/                                  Inception  (2010)   \n1    /title/tt0133093/                                 The Matrix  (1999)   \n2    /title/tt0816692/                               Interstellar  (2014)   \n3    /title/tt0848228/                               The Avengers  (2012)   \n4    /title/tt0076759/                                  Star Wars  (1977)   \n..                 ...                                        ...     ...   \n808  /title/tt0816539/                Jack Brooks: Monster Slayer  (2007)   \n809  /title/tt5737536/                               Future World  (2018)   \n810  /title/tt0165874/  The Mating Habits of the Earthbound Human  (1999)   \n811  /title/tt0055608/            Voyage to the Bottom of the Sea  (1961)   \n812  /title/tt0087004/            The Brother from Another Planet  (1984)   \n\n                          genre certificate     time ImdbRating metascore  \\\n0     Action, Adventure, Sci-Fi       PG-13  148 min        8.8        74   \n1                Action, Sci-Fi           R  136 min        8.7        73   \n2      Adventure, Drama, Sci-Fi       PG-13  169 min        8.6        74   \n3     Action, Adventure, Sci-Fi       PG-13  143 min        8.0        69   \n4    Action, Adventure, Fantasy          PG  121 min        8.6        90   \n..                          ...         ...      ...        ...       ...   \n808      Action, Comedy, Horror           R   85 min        5.9        46   \n809   Action, Adventure, Sci-Fi           R   88 min        3.2        10   \n810              Comedy, Sci-Fi           R   88 min        6.3        26   \n811   Action, Adventure, Sci-Fi          PG  105 min        6.0        49   \n812              Comedy, Sci-Fi           R  108 min        6.8        70   \n\n         votes                                        simple_desc  \n0    2,340,483  A thief who steals corporate secrets through t...  \n1    1,906,046  When a beautiful stranger leads computer hacke...  \n2    1,815,557  A team of explorers travel through a wormhole ...  \n3    1,388,292  Earth's mightiest heroes must come together an...  \n4    1,360,825  Luke Skywalker joins forces with a Jedi Knight...  \n..         ...                                                ...  \n808      6,454  A troubled young man still mourning the childh...  \n809      6,418  A young boy searches a future world wasteland ...  \n810      6,330  An anthropologist from an alien planet provide...  \n811      6,247  When the Earth is threatened by a burning Van ...  \n812      6,190  A mute alien with the appearance of a black hu...  \n\n[813 rows x 10 columns]",
      "text/html": "<div>\n<style scoped>\n    .dataframe tbody tr th:only-of-type {\n        vertical-align: middle;\n    }\n\n    .dataframe tbody tr th {\n        vertical-align: top;\n    }\n\n    .dataframe thead th {\n        text-align: right;\n    }\n</style>\n<table border=\"1\" class=\"dataframe\">\n  <thead>\n    <tr style=\"text-align: right;\">\n      <th></th>\n      <th>id</th>\n      <th>title</th>\n      <th>year</th>\n      <th>genre</th>\n      <th>certificate</th>\n      <th>time</th>\n      <th>ImdbRating</th>\n      <th>metascore</th>\n      <th>votes</th>\n      <th>simple_desc</th>\n    </tr>\n  </thead>\n  <tbody>\n    <tr>\n      <th>0</th>\n      <td>/title/tt1375666/</td>\n      <td>Inception</td>\n      <td>(2010)</td>\n      <td>Action, Adventure, Sci-Fi</td>\n      <td>PG-13</td>\n      <td>148 min</td>\n      <td>8.8</td>\n      <td>74</td>\n      <td>2,340,483</td>\n      <td>A thief who steals corporate secrets through t...</td>\n    </tr>\n    <tr>\n      <th>1</th>\n      <td>/title/tt0133093/</td>\n      <td>The Matrix</td>\n      <td>(1999)</td>\n      <td>Action, Sci-Fi</td>\n      <td>R</td>\n      <td>136 min</td>\n      <td>8.7</td>\n      <td>73</td>\n      <td>1,906,046</td>\n      <td>When a beautiful stranger leads computer hacke...</td>\n    </tr>\n    <tr>\n      <th>2</th>\n      <td>/title/tt0816692/</td>\n      <td>Interstellar</td>\n      <td>(2014)</td>\n      <td>Adventure, Drama, Sci-Fi</td>\n      <td>PG-13</td>\n      <td>169 min</td>\n      <td>8.6</td>\n      <td>74</td>\n      <td>1,815,557</td>\n      <td>A team of explorers travel through a wormhole ...</td>\n    </tr>\n    <tr>\n      <th>3</th>\n      <td>/title/tt0848228/</td>\n      <td>The Avengers</td>\n      <td>(2012)</td>\n      <td>Action, Adventure, Sci-Fi</td>\n      <td>PG-13</td>\n      <td>143 min</td>\n      <td>8.0</td>\n      <td>69</td>\n      <td>1,388,292</td>\n      <td>Earth's mightiest heroes must come together an...</td>\n    </tr>\n    <tr>\n      <th>4</th>\n      <td>/title/tt0076759/</td>\n      <td>Star Wars</td>\n      <td>(1977)</td>\n      <td>Action, Adventure, Fantasy</td>\n      <td>PG</td>\n      <td>121 min</td>\n      <td>8.6</td>\n      <td>90</td>\n      <td>1,360,825</td>\n      <td>Luke Skywalker joins forces with a Jedi Knight...</td>\n    </tr>\n    <tr>\n      <th>...</th>\n      <td>...</td>\n      <td>...</td>\n      <td>...</td>\n      <td>...</td>\n      <td>...</td>\n      <td>...</td>\n      <td>...</td>\n      <td>...</td>\n      <td>...</td>\n      <td>...</td>\n    </tr>\n    <tr>\n      <th>808</th>\n      <td>/title/tt0816539/</td>\n      <td>Jack Brooks: Monster Slayer</td>\n      <td>(2007)</td>\n      <td>Action, Comedy, Horror</td>\n      <td>R</td>\n      <td>85 min</td>\n      <td>5.9</td>\n      <td>46</td>\n      <td>6,454</td>\n      <td>A troubled young man still mourning the childh...</td>\n    </tr>\n    <tr>\n      <th>809</th>\n      <td>/title/tt5737536/</td>\n      <td>Future World</td>\n      <td>(2018)</td>\n      <td>Action, Adventure, Sci-Fi</td>\n      <td>R</td>\n      <td>88 min</td>\n      <td>3.2</td>\n      <td>10</td>\n      <td>6,418</td>\n      <td>A young boy searches a future world wasteland ...</td>\n    </tr>\n    <tr>\n      <th>810</th>\n      <td>/title/tt0165874/</td>\n      <td>The Mating Habits of the Earthbound Human</td>\n      <td>(1999)</td>\n      <td>Comedy, Sci-Fi</td>\n      <td>R</td>\n      <td>88 min</td>\n      <td>6.3</td>\n      <td>26</td>\n      <td>6,330</td>\n      <td>An anthropologist from an alien planet provide...</td>\n    </tr>\n    <tr>\n      <th>811</th>\n      <td>/title/tt0055608/</td>\n      <td>Voyage to the Bottom of the Sea</td>\n      <td>(1961)</td>\n      <td>Action, Adventure, Sci-Fi</td>\n      <td>PG</td>\n      <td>105 min</td>\n      <td>6.0</td>\n      <td>49</td>\n      <td>6,247</td>\n      <td>When the Earth is threatened by a burning Van ...</td>\n    </tr>\n    <tr>\n      <th>812</th>\n      <td>/title/tt0087004/</td>\n      <td>The Brother from Another Planet</td>\n      <td>(1984)</td>\n      <td>Comedy, Sci-Fi</td>\n      <td>R</td>\n      <td>108 min</td>\n      <td>6.8</td>\n      <td>70</td>\n      <td>6,190</td>\n      <td>A mute alien with the appearance of a black hu...</td>\n    </tr>\n  </tbody>\n</table>\n<p>813 rows × 10 columns</p>\n</div>"
     },
     "execution_count": 6,
     "metadata": {},
     "output_type": "execute_result"
    }
   ],
   "source": [
    "# Converting to Dataframe\n",
    "movies_df = pd.DataFrame(movie_content_list)\n",
    "movies_df"
   ]
  },
  {
   "cell_type": "markdown",
   "metadata": {
    "collapsed": false,
    "pycharm": {
     "name": "#%% md\n"
    }
   },
   "source": [
    "### Cleaning The Dataframe"
   ]
  },
  {
   "cell_type": "code",
   "execution_count": 7,
   "metadata": {
    "collapsed": false,
    "pycharm": {
     "name": "#%%\n"
    }
   },
   "outputs": [
    {
     "data": {
      "text/plain": "id             object\ntitle          object\nyear           object\ngenre          object\ncertificate    object\ntime           object\nImdbRating     object\nmetascore      object\nvotes          object\nsimple_desc    object\ndtype: object"
     },
     "execution_count": 7,
     "metadata": {},
     "output_type": "execute_result"
    }
   ],
   "source": [
    "movies_df .dtypes"
   ]
  },
  {
   "cell_type": "code",
   "execution_count": 8,
   "metadata": {
    "pycharm": {
     "name": "#%%\n"
    }
   },
   "outputs": [],
   "source": [
    "#changing columns Types to string\n",
    "movies_df  = movies_df .astype('string')"
   ]
  },
  {
   "cell_type": "code",
   "execution_count": 9,
   "metadata": {
    "collapsed": false,
    "pycharm": {
     "name": "#%%\n"
    }
   },
   "outputs": [],
   "source": [
    "#removing the uneeded characters from the id\n",
    "movies_df['id'] = movies_df['id'].str[7:-1]"
   ]
  },
  {
   "cell_type": "code",
   "execution_count": 10,
   "metadata": {
    "collapsed": false,
    "pycharm": {
     "name": "#%%\n"
    }
   },
   "outputs": [],
   "source": [
    "#removing characters from the yeaer and converting it to integer\n",
    "movies_df ['year'] = movies_df ['year'].str.extract('(\\d+)').astype(int)"
   ]
  },
  {
   "cell_type": "code",
   "execution_count": 11,
   "metadata": {
    "collapsed": false,
    "pycharm": {
     "name": "#%%\n"
    }
   },
   "outputs": [],
   "source": [
    "#converting the rating to float\n",
    "movies_df ['ImdbRating'] = movies_df ['ImdbRating'].astype(float)"
   ]
  },
  {
   "cell_type": "code",
   "execution_count": 12,
   "metadata": {
    "collapsed": false,
    "pycharm": {
     "name": "#%%\n"
    }
   },
   "outputs": [],
   "source": [
    "#removing the text from the votes and converting it to integer\n",
    "movies_df ['votes'] = movies_df ['votes'].str.replace(',','').astype(int)"
   ]
  },
  {
   "cell_type": "code",
   "execution_count": 13,
   "metadata": {
    "collapsed": false,
    "pycharm": {
     "name": "#%%\n"
    }
   },
   "outputs": [],
   "source": [
    "#removing the text from the runtime and converting it to integer\n",
    "movies_df ['time'] = movies_df ['time'].str[0:-3].astype(int)"
   ]
  },
  {
   "cell_type": "code",
   "execution_count": 14,
   "metadata": {
    "collapsed": false,
    "pycharm": {
     "name": "#%%\n"
    }
   },
   "outputs": [
    {
     "data": {
      "text/plain": "id              string\ntitle           string\nyear             int32\ngenre           string\ncertificate     string\ntime             int32\nImdbRating     float64\nmetascore       string\nvotes            int32\nsimple_desc     string\ndtype: object"
     },
     "execution_count": 14,
     "metadata": {},
     "output_type": "execute_result"
    }
   ],
   "source": [
    "#checking if the types have changed\n",
    "movies_df.dtypes"
   ]
  },
  {
   "cell_type": "code",
   "execution_count": 15,
   "outputs": [
    {
     "data": {
      "text/plain": "            id                                      title  year  \\\n0    tt1375666                                  Inception  2010   \n1    tt0133093                                 The Matrix  1999   \n2    tt0816692                               Interstellar  2014   \n3    tt0848228                               The Avengers  2012   \n4    tt0076759                                  Star Wars  1977   \n..         ...                                        ...   ...   \n808  tt0816539                Jack Brooks: Monster Slayer  2007   \n809  tt5737536                               Future World  2018   \n810  tt0165874  The Mating Habits of the Earthbound Human  1999   \n811  tt0055608            Voyage to the Bottom of the Sea  1961   \n812  tt0087004            The Brother from Another Planet  1984   \n\n                          genre certificate  time  ImdbRating metascore  \\\n0     Action, Adventure, Sci-Fi       PG-13   148         8.8        74   \n1                Action, Sci-Fi           R   136         8.7        73   \n2      Adventure, Drama, Sci-Fi       PG-13   169         8.6        74   \n3     Action, Adventure, Sci-Fi       PG-13   143         8.0        69   \n4    Action, Adventure, Fantasy          PG   121         8.6        90   \n..                          ...         ...   ...         ...       ...   \n808      Action, Comedy, Horror           R    85         5.9        46   \n809   Action, Adventure, Sci-Fi           R    88         3.2        10   \n810              Comedy, Sci-Fi           R    88         6.3        26   \n811   Action, Adventure, Sci-Fi          PG   105         6.0        49   \n812              Comedy, Sci-Fi           R   108         6.8        70   \n\n       votes                                        simple_desc  \n0    2340483  A thief who steals corporate secrets through t...  \n1    1906046  When a beautiful stranger leads computer hacke...  \n2    1815557  A team of explorers travel through a wormhole ...  \n3    1388292  Earth's mightiest heroes must come together an...  \n4    1360825  Luke Skywalker joins forces with a Jedi Knight...  \n..       ...                                                ...  \n808     6454  A troubled young man still mourning the childh...  \n809     6418  A young boy searches a future world wasteland ...  \n810     6330  An anthropologist from an alien planet provide...  \n811     6247  When the Earth is threatened by a burning Van ...  \n812     6190  A mute alien with the appearance of a black hu...  \n\n[813 rows x 10 columns]",
      "text/html": "<div>\n<style scoped>\n    .dataframe tbody tr th:only-of-type {\n        vertical-align: middle;\n    }\n\n    .dataframe tbody tr th {\n        vertical-align: top;\n    }\n\n    .dataframe thead th {\n        text-align: right;\n    }\n</style>\n<table border=\"1\" class=\"dataframe\">\n  <thead>\n    <tr style=\"text-align: right;\">\n      <th></th>\n      <th>id</th>\n      <th>title</th>\n      <th>year</th>\n      <th>genre</th>\n      <th>certificate</th>\n      <th>time</th>\n      <th>ImdbRating</th>\n      <th>metascore</th>\n      <th>votes</th>\n      <th>simple_desc</th>\n    </tr>\n  </thead>\n  <tbody>\n    <tr>\n      <th>0</th>\n      <td>tt1375666</td>\n      <td>Inception</td>\n      <td>2010</td>\n      <td>Action, Adventure, Sci-Fi</td>\n      <td>PG-13</td>\n      <td>148</td>\n      <td>8.8</td>\n      <td>74</td>\n      <td>2340483</td>\n      <td>A thief who steals corporate secrets through t...</td>\n    </tr>\n    <tr>\n      <th>1</th>\n      <td>tt0133093</td>\n      <td>The Matrix</td>\n      <td>1999</td>\n      <td>Action, Sci-Fi</td>\n      <td>R</td>\n      <td>136</td>\n      <td>8.7</td>\n      <td>73</td>\n      <td>1906046</td>\n      <td>When a beautiful stranger leads computer hacke...</td>\n    </tr>\n    <tr>\n      <th>2</th>\n      <td>tt0816692</td>\n      <td>Interstellar</td>\n      <td>2014</td>\n      <td>Adventure, Drama, Sci-Fi</td>\n      <td>PG-13</td>\n      <td>169</td>\n      <td>8.6</td>\n      <td>74</td>\n      <td>1815557</td>\n      <td>A team of explorers travel through a wormhole ...</td>\n    </tr>\n    <tr>\n      <th>3</th>\n      <td>tt0848228</td>\n      <td>The Avengers</td>\n      <td>2012</td>\n      <td>Action, Adventure, Sci-Fi</td>\n      <td>PG-13</td>\n      <td>143</td>\n      <td>8.0</td>\n      <td>69</td>\n      <td>1388292</td>\n      <td>Earth's mightiest heroes must come together an...</td>\n    </tr>\n    <tr>\n      <th>4</th>\n      <td>tt0076759</td>\n      <td>Star Wars</td>\n      <td>1977</td>\n      <td>Action, Adventure, Fantasy</td>\n      <td>PG</td>\n      <td>121</td>\n      <td>8.6</td>\n      <td>90</td>\n      <td>1360825</td>\n      <td>Luke Skywalker joins forces with a Jedi Knight...</td>\n    </tr>\n    <tr>\n      <th>...</th>\n      <td>...</td>\n      <td>...</td>\n      <td>...</td>\n      <td>...</td>\n      <td>...</td>\n      <td>...</td>\n      <td>...</td>\n      <td>...</td>\n      <td>...</td>\n      <td>...</td>\n    </tr>\n    <tr>\n      <th>808</th>\n      <td>tt0816539</td>\n      <td>Jack Brooks: Monster Slayer</td>\n      <td>2007</td>\n      <td>Action, Comedy, Horror</td>\n      <td>R</td>\n      <td>85</td>\n      <td>5.9</td>\n      <td>46</td>\n      <td>6454</td>\n      <td>A troubled young man still mourning the childh...</td>\n    </tr>\n    <tr>\n      <th>809</th>\n      <td>tt5737536</td>\n      <td>Future World</td>\n      <td>2018</td>\n      <td>Action, Adventure, Sci-Fi</td>\n      <td>R</td>\n      <td>88</td>\n      <td>3.2</td>\n      <td>10</td>\n      <td>6418</td>\n      <td>A young boy searches a future world wasteland ...</td>\n    </tr>\n    <tr>\n      <th>810</th>\n      <td>tt0165874</td>\n      <td>The Mating Habits of the Earthbound Human</td>\n      <td>1999</td>\n      <td>Comedy, Sci-Fi</td>\n      <td>R</td>\n      <td>88</td>\n      <td>6.3</td>\n      <td>26</td>\n      <td>6330</td>\n      <td>An anthropologist from an alien planet provide...</td>\n    </tr>\n    <tr>\n      <th>811</th>\n      <td>tt0055608</td>\n      <td>Voyage to the Bottom of the Sea</td>\n      <td>1961</td>\n      <td>Action, Adventure, Sci-Fi</td>\n      <td>PG</td>\n      <td>105</td>\n      <td>6.0</td>\n      <td>49</td>\n      <td>6247</td>\n      <td>When the Earth is threatened by a burning Van ...</td>\n    </tr>\n    <tr>\n      <th>812</th>\n      <td>tt0087004</td>\n      <td>The Brother from Another Planet</td>\n      <td>1984</td>\n      <td>Comedy, Sci-Fi</td>\n      <td>R</td>\n      <td>108</td>\n      <td>6.8</td>\n      <td>70</td>\n      <td>6190</td>\n      <td>A mute alien with the appearance of a black hu...</td>\n    </tr>\n  </tbody>\n</table>\n<p>813 rows × 10 columns</p>\n</div>"
     },
     "execution_count": 15,
     "metadata": {},
     "output_type": "execute_result"
    }
   ],
   "source": [
    "#Printing the dataframe\n",
    "movies_df"
   ],
   "metadata": {
    "collapsed": false,
    "pycharm": {
     "name": "#%%\n"
    }
   }
  },
  {
   "cell_type": "code",
   "execution_count": 16,
   "metadata": {
    "collapsed": false,
    "pycharm": {
     "name": "#%%\n"
    }
   },
   "outputs": [],
   "source": [
    "#Converting to csv\n",
    "movies_df.to_csv(\"movies_df.csv\")"
   ]
  },
  {
   "cell_type": "markdown",
   "metadata": {
    "collapsed": false,
    "pycharm": {
     "name": "#%% md\n"
    }
   },
   "source": [
    "## Movies analysis and visualization\n",
    "### Certificates visualization"
   ]
  },
  {
   "cell_type": "code",
   "execution_count": 17,
   "metadata": {
    "collapsed": false,
    "pycharm": {
     "name": "#%%\n"
    }
   },
   "outputs": [],
   "source": [
    "import matplotlib.pyplot as plt\n",
    "import seaborn as sns\n",
    "import numpy as np"
   ]
  },
  {
   "cell_type": "code",
   "execution_count": 18,
   "metadata": {
    "collapsed": false,
    "pycharm": {
     "name": "#%%\n"
    }
   },
   "outputs": [],
   "source": [
    "movies_df_vis = movies_df\n",
    "movies_df_vis = movies_df_vis.groupby(['certificate']).count()\n",
    "movies_df_vis = movies_df_vis['id']\n",
    "movies_df_vis=movies_df_vis.reset_index()"
   ]
  },
  {
   "cell_type": "code",
   "execution_count": 19,
   "metadata": {
    "collapsed": false,
    "pycharm": {
     "name": "#%%\n"
    }
   },
   "outputs": [
    {
     "data": {
      "text/plain": "<Figure size 1440x576 with 1 Axes>",
      "image/png": "[encoded data removed]"
     },
     "metadata": {},
     "output_type": "display_data"
    }
   ],
   "source": [
    "fig, axs = plt.subplots(1, figsize=(20, 8))\n",
    "sns.barplot(data=movies_df_vis, x='certificate', y='id', ax=axs)\n",
    "axs.set_title('Number of movies by Certificate')\n",
    "plt.tight_layout()\n",
    "plt.legend (labels=[\"G : all ages.\",\"M : Mature\",\"PG : Parental Guidance\",\"PG-13 : Parental Strongly Cautioned\",\"R : Restricted\",\"UNRATED : VERY RESTRICTED\"])\n",
    "\n",
    "plt.show()"
   ]
  },
  {
   "cell_type": "markdown",
   "metadata": {
    "collapsed": false,
    "pycharm": {
     "name": "#%% md\n"
    }
   },
   "source": [
    "### Movies per year visualization"
   ]
  },
  {
   "cell_type": "code",
   "execution_count": 20,
   "metadata": {
    "collapsed": false,
    "pycharm": {
     "name": "#%%\n"
    }
   },
   "outputs": [],
   "source": [
    "movies_df_vis = movies_df\n",
    "movies_df_vis = movies_df_vis.groupby(['year']).count()\n",
    "movies_df_vis = movies_df_vis['id']\n",
    "movies_df_vis = movies_df_vis.reset_index()"
   ]
  },
  {
   "cell_type": "code",
   "execution_count": 21,
   "metadata": {
    "collapsed": false,
    "pycharm": {
     "name": "#%%\n"
    }
   },
   "outputs": [
    {
     "data": {
      "text/plain": "<Figure size 1440x576 with 1 Axes>",
      "image/png": "[encoded data removed]"
     },
     "metadata": {},
     "output_type": "display_data"
    }
   ],
   "source": [
    "fig, axs = plt.subplots(1, figsize=(20, 8))\n",
    "ax = sns.lineplot(data=movies_df_vis, x='year', y='id', ax=axs)\n",
    "kdeline = ax.lines[0]\n",
    "axs.set_title('Number of movies each year')\n",
    "xs = kdeline.get_xdata()\n",
    "ys = kdeline.get_ydata()\n",
    "mode_idx = np.argmax(ys)\n",
    "plt.tight_layout()\n",
    "ax.vlines(xs[mode_idx], 0, ys[mode_idx], color='green', ls='--', lw=2)\n",
    "\n",
    "plt.show()"
   ]
  },
  {
   "cell_type": "markdown",
   "metadata": {
    "collapsed": false,
    "pycharm": {
     "name": "#%% md\n"
    }
   },
   "source": [
    "## Requesting and scrapping reviews' data\n",
    "### Importing needed libraries"
   ]
  },
  {
   "cell_type": "code",
   "execution_count": 22,
   "metadata": {
    "collapsed": false,
    "pycharm": {
     "name": "#%%\n"
    }
   },
   "outputs": [],
   "source": [
    "from lxml import etree"
   ]
  },
  {
   "cell_type": "markdown",
   "metadata": {
    "collapsed": false,
    "pycharm": {
     "name": "#%% md\n"
    }
   },
   "source": [
    "### Scrapping Reviews function"
   ]
  },
  {
   "cell_type": "code",
   "execution_count": 23,
   "metadata": {
    "collapsed": false,
    "pycharm": {
     "name": "#%%\n"
    }
   },
   "outputs": [],
   "source": [
    "def scrapping_movie_reviews(movie_id):\n",
    "    df_review_content = []\n",
    "    url =  f\"https://www.imdb.com/title/{movie_id}/reviews?spoiler=hide&sort=totalVotes&dir=desc&ratingFilter=0\"\n",
    "    resp = requests.get(url)\n",
    "    review_content = BeautifulSoup(resp.content, 'lxml')\n",
    "    review_content_converted = etree.HTML(str(review_content))\n",
    "    data_ajaxurl = review_content_converted.xpath('//*[@class=\"load-more-data\"]/@data-ajaxurl')[0]\n",
    "    with tqdm(total=613) as pbar:\n",
    "\n",
    "        while True:\n",
    "            resp = requests.get(url)\n",
    "            #Converting the response to Beautiful Soup Object\n",
    "            review_content = BeautifulSoup(resp.content, 'lxml')\n",
    "            review_content_converted = etree.HTML(str(review_content))\n",
    "\n",
    "            for review in review_content.select('.lister-item-content'):\n",
    "                try:\n",
    "                # Creating a python dictonary\n",
    "                    data = {\n",
    "                    \"rating\":review.select('.rating-other-user-rating span')[0].get_text().strip(),\n",
    "                    \"title\": review.select('.title')[0].get_text().strip(),\n",
    "                    \"review\": review.select('.show-more__control')[0].get_text().strip(),\n",
    "                    }\n",
    "                except IndexError:\n",
    "                    continue\n",
    "                #Updating TQDM progress bar\n",
    "                pbar.update(1)\n",
    "                df_review_content.append(data)\n",
    "            try:\n",
    "                pagination_key = review_content_converted.xpath('//*[@class=\"load-more-data\"]/@data-key')[0]\n",
    "                url = f\"https://www.imdb.com{data_ajaxurl}&paginationKey={pagination_key}\"\n",
    "            except IndexError:\n",
    "                break\n",
    "    reviews = pd.DataFrame(df_review_content)\n",
    "    reviews = reviews.reset_index()\n",
    "    reviews['rating'] = reviews['rating'].astype(int)\n",
    "    return reviews"
   ]
  },
  {
   "cell_type": "markdown",
   "metadata": {
    "collapsed": false,
    "pycharm": {
     "name": "#%% md\n"
    }
   },
   "source": [
    "## Creating reviews Dataframe for the top 5 sci-fi Movies"
   ]
  },
  {
   "cell_type": "markdown",
   "metadata": {
    "collapsed": false,
    "pycharm": {
     "name": "#%% md\n"
    }
   },
   "source": [
    "## Reviews sentiment analysis using ROBERTA\n",
    "### Importing needed libraries"
   ]
  },
  {
   "cell_type": "code",
   "execution_count": 24,
   "metadata": {
    "collapsed": false,
    "pycharm": {
     "name": "#%%\n"
    }
   },
   "outputs": [],
   "source": [
    "from transformers import AutoModelForSequenceClassification\n",
    "from nltk.sentiment import SentimentIntensityAnalyzer\n",
    "from transformers import AutoTokenizer\n",
    "from scipy.special import softmax\n",
    "import matplotlib.pyplot as plt\n",
    "import seaborn as sns\n",
    "import torch\n",
    "import nltk"
   ]
  },
  {
   "cell_type": "markdown",
   "metadata": {
    "collapsed": false,
    "pycharm": {
     "name": "#%% md\n"
    }
   },
   "source": [
    "### Initializing needed variables"
   ]
  },
  {
   "cell_type": "code",
   "execution_count": 25,
   "metadata": {
    "collapsed": false,
    "pycharm": {
     "name": "#%%\n"
    }
   },
   "outputs": [],
   "source": [
    "sia = SentimentIntensityAnalyzer()\n",
    "MODEL = f\"cardiffnlp/twitter-roberta-base-sentiment\"\n",
    "tokenizer = AutoTokenizer.from_pretrained(MODEL)\n",
    "model = AutoModelForSequenceClassification.from_pretrained(MODEL)"
   ]
  },
  {
   "cell_type": "markdown",
   "metadata": {
    "collapsed": false,
    "pycharm": {
     "name": "#%% md\n"
    }
   },
   "source": [
    "## Creating roberta score calculator function"
   ]
  },
  {
   "cell_type": "code",
   "execution_count": 26,
   "metadata": {
    "collapsed": false,
    "pycharm": {
     "name": "#%%\n"
    }
   },
   "outputs": [],
   "source": [
    "def polarity_scores_roberta(example):\n",
    "    encoded_text = tokenizer(example, return_tensors='pt')\n",
    "    output = model(**encoded_text)\n",
    "    scores = output[0][0].detach().numpy()\n",
    "    scores = softmax(scores)\n",
    "    scores_dict = {\n",
    "        'neg' : scores[0],\n",
    "        'neu' : scores[1],\n",
    "        'pos' : scores[2]\n",
    "    }\n",
    "    return scores_dict"
   ]
  },
  {
   "cell_type": "markdown",
   "metadata": {
    "collapsed": false,
    "pycharm": {
     "name": "#%% md\n"
    }
   },
   "source": [
    "## Creating sentiment analysis to top 5 movies"
   ]
  },
  {
   "cell_type": "code",
   "execution_count": 27,
   "metadata": {
    "collapsed": false,
    "pycharm": {
     "name": "#%%\n"
    }
   },
   "outputs": [],
   "source": [
    "movies = list(movies_df['id'].head(5))"
   ]
  },
  {
   "cell_type": "markdown",
   "metadata": {
    "collapsed": false,
    "pycharm": {
     "name": "#%% md\n"
    }
   },
   "source": [
    "### First Movie : INCEPTION"
   ]
  },
  {
   "cell_type": "code",
   "execution_count": 28,
   "metadata": {
    "collapsed": false,
    "pycharm": {
     "name": "#%%\n"
    }
   },
   "outputs": [
    {
     "data": {
      "text/plain": "  0%|          | 0/613 [00:00<?, ?it/s]",
      "application/vnd.jupyter.widget-view+json": {
       "version_major": 2,
       "version_minor": 0,
       "model_id": "fe469100a7484ebd9cdedcfbfcdbbe01"
      }
     },
     "metadata": {},
     "output_type": "display_data"
    },
    {
     "data": {
      "text/plain": "  0%|          | 0/500 [00:00<?, ?it/s]",
      "application/vnd.jupyter.widget-view+json": {
       "version_major": 2,
       "version_minor": 0,
       "model_id": "10176cd08b1f4f62bca66686c15b72c1"
      }
     },
     "metadata": {},
     "output_type": "display_data"
    },
    {
     "data": {
      "text/plain": "<Figure size 864x216 with 3 Axes>",
      "image/png": "[encoded data removed]"
     },
     "metadata": {},
     "output_type": "display_data"
    }
   ],
   "source": [
    "reviews = scrapping_movie_reviews(movies[0])\n",
    "reviews = reviews.head(500)\n",
    "res = {}\n",
    "for i, row in tqdm(reviews.iterrows(), total=len(reviews)):\n",
    "    try:\n",
    "        text = row['review']\n",
    "        myid = row['index']\n",
    "        roberta_result = polarity_scores_roberta(text)\n",
    "        res[myid] = roberta_result\n",
    "    except RuntimeError :\n",
    "        continue\n",
    "    except IndexError:\n",
    "        continue\n",
    "\n",
    "Inception = pd.DataFrame(res).T\n",
    "Inception = Inception.reset_index()\n",
    "Inception = Inception.merge(reviews, how='left')\n",
    "Inception = Inception.sort_values('index')\n",
    "Inception.to_csv('Inception.csv')\n",
    "fig, axs = plt.subplots(1, 3, figsize=(12, 3))\n",
    "sns.barplot(data=Inception, x='rating', y='pos', ax=axs[0])\n",
    "sns.barplot(data=Inception, x='rating', y='neu', ax=axs[1])\n",
    "sns.barplot(data=Inception, x='rating', y='neg', ax=axs[2])\n",
    "axs[0].set_title('Positive')\n",
    "axs[1].set_title('Neutral')\n",
    "axs[2].set_title('Negative')\n",
    "plt.tight_layout()\n",
    "plt.show()"
   ]
  },
  {
   "cell_type": "code",
   "execution_count": 29,
   "outputs": [
    {
     "data": {
      "text/plain": "     index       neg       neu       pos  rating  \\\n0        1  0.138912  0.461611  0.399478      10   \n1        4  0.002743  0.024029  0.973228      10   \n2        9  0.506083  0.387558  0.106359       1   \n3       10  0.948451  0.044433  0.007116       1   \n4       12  0.693166  0.251815  0.055019       1   \n..     ...       ...       ...       ...     ...   \n404    495  0.069364  0.368653  0.561984      10   \n405    496  0.008223  0.285621  0.706156      10   \n406    497  0.004153  0.027832  0.968014      10   \n407    498  0.262096  0.391195  0.346709      10   \n408    499  0.008626  0.114593  0.876781       9   \n\n                                                 title  \\\n0    Incredible-Nolan keeps improving and Inception...   \n1    Amazing Directing, Captivating Plot, Overall G...   \n2                     A fake \"thinking person's movie\"   \n3                                               So bad   \n4                                         A nightmare.   \n..                                                 ...   \n404  Imaginative and visually stunning, one of the ...   \n405                                          Inception   \n406                                   best time killer   \n407     You'll wonder how you ever doubted this movie.   \n408          \"a flawless symphony of images and idea.\"   \n\n                                                review  \n0    I saw Memento very recently, something that tu...  \n1    I had the privilege of seeing this movie befor...  \n2    I cannot phrase it better, so I will quote Rex...  \n3    My high expectations of this movie based on it...  \n4    This movie is a disaster on many levels, but w...  \n..                                                 ...  \n404  This movie was awesome. It even made me forget...  \n405  In Inception, we are taken on a deep and highl...  \n406  Very refreshing to see how it begins and ends ...  \n407  When I first saw trailers for Inception a coup...  \n408  It needs to be said that this movie is among t...  \n\n[409 rows x 7 columns]",
      "text/html": "<div>\n<style scoped>\n    .dataframe tbody tr th:only-of-type {\n        vertical-align: middle;\n    }\n\n    .dataframe tbody tr th {\n        vertical-align: top;\n    }\n\n    .dataframe thead th {\n        text-align: right;\n    }\n</style>\n<table border=\"1\" class=\"dataframe\">\n  <thead>\n    <tr style=\"text-align: right;\">\n      <th></th>\n      <th>index</th>\n      <th>neg</th>\n      <th>neu</th>\n      <th>pos</th>\n      <th>rating</th>\n      <th>title</th>\n      <th>review</th>\n    </tr>\n  </thead>\n  <tbody>\n    <tr>\n      <th>0</th>\n      <td>1</td>\n      <td>0.138912</td>\n      <td>0.461611</td>\n      <td>0.399478</td>\n      <td>10</td>\n      <td>Incredible-Nolan keeps improving and Inception...</td>\n      <td>I saw Memento very recently, something that tu...</td>\n    </tr>\n    <tr>\n      <th>1</th>\n      <td>4</td>\n      <td>0.002743</td>\n      <td>0.024029</td>\n      <td>0.973228</td>\n      <td>10</td>\n      <td>Amazing Directing, Captivating Plot, Overall G...</td>\n      <td>I had the privilege of seeing this movie befor...</td>\n    </tr>\n    <tr>\n      <th>2</th>\n      <td>9</td>\n      <td>0.506083</td>\n      <td>0.387558</td>\n      <td>0.106359</td>\n      <td>1</td>\n      <td>A fake \"thinking person's movie\"</td>\n      <td>I cannot phrase it better, so I will quote Rex...</td>\n    </tr>\n    <tr>\n      <th>3</th>\n      <td>10</td>\n      <td>0.948451</td>\n      <td>0.044433</td>\n      <td>0.007116</td>\n      <td>1</td>\n      <td>So bad</td>\n      <td>My high expectations of this movie based on it...</td>\n    </tr>\n    <tr>\n      <th>4</th>\n      <td>12</td>\n      <td>0.693166</td>\n      <td>0.251815</td>\n      <td>0.055019</td>\n      <td>1</td>\n      <td>A nightmare.</td>\n      <td>This movie is a disaster on many levels, but w...</td>\n    </tr>\n    <tr>\n      <th>...</th>\n      <td>...</td>\n      <td>...</td>\n      <td>...</td>\n      <td>...</td>\n      <td>...</td>\n      <td>...</td>\n      <td>...</td>\n    </tr>\n    <tr>\n      <th>404</th>\n      <td>495</td>\n      <td>0.069364</td>\n      <td>0.368653</td>\n      <td>0.561984</td>\n      <td>10</td>\n      <td>Imaginative and visually stunning, one of the ...</td>\n      <td>This movie was awesome. It even made me forget...</td>\n    </tr>\n    <tr>\n      <th>405</th>\n      <td>496</td>\n      <td>0.008223</td>\n      <td>0.285621</td>\n      <td>0.706156</td>\n      <td>10</td>\n      <td>Inception</td>\n      <td>In Inception, we are taken on a deep and highl...</td>\n    </tr>\n    <tr>\n      <th>406</th>\n      <td>497</td>\n      <td>0.004153</td>\n      <td>0.027832</td>\n      <td>0.968014</td>\n      <td>10</td>\n      <td>best time killer</td>\n      <td>Very refreshing to see how it begins and ends ...</td>\n    </tr>\n    <tr>\n      <th>407</th>\n      <td>498</td>\n      <td>0.262096</td>\n      <td>0.391195</td>\n      <td>0.346709</td>\n      <td>10</td>\n      <td>You'll wonder how you ever doubted this movie.</td>\n      <td>When I first saw trailers for Inception a coup...</td>\n    </tr>\n    <tr>\n      <th>408</th>\n      <td>499</td>\n      <td>0.008626</td>\n      <td>0.114593</td>\n      <td>0.876781</td>\n      <td>9</td>\n      <td>\"a flawless symphony of images and idea.\"</td>\n      <td>It needs to be said that this movie is among t...</td>\n    </tr>\n  </tbody>\n</table>\n<p>409 rows × 7 columns</p>\n</div>"
     },
     "execution_count": 29,
     "metadata": {},
     "output_type": "execute_result"
    }
   ],
   "source": [
    "#Printing the dataframe\n",
    "Inception"
   ],
   "metadata": {
    "collapsed": false,
    "pycharm": {
     "name": "#%%\n"
    }
   }
  },
  {
   "cell_type": "markdown",
   "metadata": {
    "collapsed": false,
    "pycharm": {
     "name": "#%% md\n"
    }
   },
   "source": [
    "### 2nd Movie : THE MATRIX"
   ]
  },
  {
   "cell_type": "code",
   "execution_count": 30,
   "metadata": {
    "collapsed": false,
    "pycharm": {
     "name": "#%%\n"
    }
   },
   "outputs": [
    {
     "data": {
      "text/plain": "  0%|          | 0/613 [00:00<?, ?it/s]",
      "application/vnd.jupyter.widget-view+json": {
       "version_major": 2,
       "version_minor": 0,
       "model_id": "7d4abaf83f0f45239c49412a1ab35f32"
      }
     },
     "metadata": {},
     "output_type": "display_data"
    },
    {
     "data": {
      "text/plain": "  0%|          | 0/500 [00:00<?, ?it/s]",
      "application/vnd.jupyter.widget-view+json": {
       "version_major": 2,
       "version_minor": 0,
       "model_id": "57edf8aa30ec48588705cfa4f97b6eb0"
      }
     },
     "metadata": {},
     "output_type": "display_data"
    },
    {
     "data": {
      "text/plain": "<Figure size 864x216 with 3 Axes>",
      "image/png": "[encoded data removed]"
     },
     "metadata": {},
     "output_type": "display_data"
    }
   ],
   "source": [
    "reviews = scrapping_movie_reviews(movies[1])\n",
    "reviews = reviews.head(500)\n",
    "res = {}\n",
    "for i, row in tqdm(reviews.iterrows(), total=len(reviews)):\n",
    "    try:\n",
    "        text = row['review']\n",
    "        myid = row['index']\n",
    "        roberta_result = polarity_scores_roberta(text)\n",
    "        res[myid] = roberta_result\n",
    "    except RuntimeError :\n",
    "        continue\n",
    "    except IndexError:\n",
    "        continue\n",
    "\n",
    "Matrix = pd.DataFrame(res).T\n",
    "Matrix = Matrix.reset_index()\n",
    "Matrix = Matrix.merge(reviews, how='left')\n",
    "Matrix = Matrix.sort_values('index')\n",
    "Matrix.to_csv('Matrix.csv')\n",
    "fig, axs = plt.subplots(1, 3, figsize=(12, 3))\n",
    "sns.barplot(data=Matrix, x='rating', y='pos', ax=axs[0])\n",
    "sns.barplot(data=Matrix, x='rating', y='neu', ax=axs[1])\n",
    "sns.barplot(data=Matrix, x='rating', y='neg', ax=axs[2])\n",
    "axs[0].set_title('Positive')\n",
    "axs[1].set_title('Neutral')\n",
    "axs[2].set_title('Negative')\n",
    "plt.tight_layout()\n",
    "plt.show()"
   ]
  },
  {
   "cell_type": "code",
   "execution_count": 31,
   "outputs": [
    {
     "data": {
      "text/plain": "     index       neg       neu       pos  rating  \\\n0        2  0.002285  0.016153  0.981563      10   \n1        3  0.003712  0.049750  0.946538      10   \n2        4  0.014025  0.081349  0.904626      10   \n3        5  0.028027  0.174359  0.797615       8   \n4        6  0.080776  0.612541  0.306683       9   \n..     ...       ...       ...       ...     ...   \n455    495  0.002076  0.025216  0.972708      10   \n456    496  0.198098  0.323388  0.478514       7   \n457    497  0.294955  0.562168  0.142877       8   \n458    498  0.003303  0.020459  0.976238       7   \n459    499  0.003964  0.011338  0.984698       5   \n\n                                                 title  \\\n0                                 Stunning and wild...   \n1    Raises the bar for sci-fi films for years to come   \n2            The more you watch it, the better it gets   \n3    Guns. Leather. Keanu Reeves. How cool can it get?   \n4                       The Matrix has Buddhist themes   \n..                                                 ...   \n455                                      Amazing movie   \n456                                    I Expected More   \n457  Lets not forget the creators were called The W...   \n458                                           Amazing!   \n459                                      Ahead of Time   \n\n                                                review  \n0    It's been a while since a movie has generated ...  \n1    The Wachowski Brothers vision of a possible fu...  \n2    The Wachowski brothers really did excel themse...  \n3    You walk into this film not knowing what the M...  \n4    A large part of the appeal of 'The Matrix' for...  \n..                                                 ...  \n455  Amazing movie and so relevant to the world we ...  \n456  Plot: the base idea is amazing, sincerely but ...  \n457  Amazing how history gets rewritten at the whim...  \n458  The kind of movie you can watch in a loop.\\nAm...  \n459  Simply Great!\\nHave no words to explain what t...  \n\n[460 rows x 7 columns]",
      "text/html": "<div>\n<style scoped>\n    .dataframe tbody tr th:only-of-type {\n        vertical-align: middle;\n    }\n\n    .dataframe tbody tr th {\n        vertical-align: top;\n    }\n\n    .dataframe thead th {\n        text-align: right;\n    }\n</style>\n<table border=\"1\" class=\"dataframe\">\n  <thead>\n    <tr style=\"text-align: right;\">\n      <th></th>\n      <th>index</th>\n      <th>neg</th>\n      <th>neu</th>\n      <th>pos</th>\n      <th>rating</th>\n      <th>title</th>\n      <th>review</th>\n    </tr>\n  </thead>\n  <tbody>\n    <tr>\n      <th>0</th>\n      <td>2</td>\n      <td>0.002285</td>\n      <td>0.016153</td>\n      <td>0.981563</td>\n      <td>10</td>\n      <td>Stunning and wild...</td>\n      <td>It's been a while since a movie has generated ...</td>\n    </tr>\n    <tr>\n      <th>1</th>\n      <td>3</td>\n      <td>0.003712</td>\n      <td>0.049750</td>\n      <td>0.946538</td>\n      <td>10</td>\n      <td>Raises the bar for sci-fi films for years to come</td>\n      <td>The Wachowski Brothers vision of a possible fu...</td>\n    </tr>\n    <tr>\n      <th>2</th>\n      <td>4</td>\n      <td>0.014025</td>\n      <td>0.081349</td>\n      <td>0.904626</td>\n      <td>10</td>\n      <td>The more you watch it, the better it gets</td>\n      <td>The Wachowski brothers really did excel themse...</td>\n    </tr>\n    <tr>\n      <th>3</th>\n      <td>5</td>\n      <td>0.028027</td>\n      <td>0.174359</td>\n      <td>0.797615</td>\n      <td>8</td>\n      <td>Guns. Leather. Keanu Reeves. How cool can it get?</td>\n      <td>You walk into this film not knowing what the M...</td>\n    </tr>\n    <tr>\n      <th>4</th>\n      <td>6</td>\n      <td>0.080776</td>\n      <td>0.612541</td>\n      <td>0.306683</td>\n      <td>9</td>\n      <td>The Matrix has Buddhist themes</td>\n      <td>A large part of the appeal of 'The Matrix' for...</td>\n    </tr>\n    <tr>\n      <th>...</th>\n      <td>...</td>\n      <td>...</td>\n      <td>...</td>\n      <td>...</td>\n      <td>...</td>\n      <td>...</td>\n      <td>...</td>\n    </tr>\n    <tr>\n      <th>455</th>\n      <td>495</td>\n      <td>0.002076</td>\n      <td>0.025216</td>\n      <td>0.972708</td>\n      <td>10</td>\n      <td>Amazing movie</td>\n      <td>Amazing movie and so relevant to the world we ...</td>\n    </tr>\n    <tr>\n      <th>456</th>\n      <td>496</td>\n      <td>0.198098</td>\n      <td>0.323388</td>\n      <td>0.478514</td>\n      <td>7</td>\n      <td>I Expected More</td>\n      <td>Plot: the base idea is amazing, sincerely but ...</td>\n    </tr>\n    <tr>\n      <th>457</th>\n      <td>497</td>\n      <td>0.294955</td>\n      <td>0.562168</td>\n      <td>0.142877</td>\n      <td>8</td>\n      <td>Lets not forget the creators were called The W...</td>\n      <td>Amazing how history gets rewritten at the whim...</td>\n    </tr>\n    <tr>\n      <th>458</th>\n      <td>498</td>\n      <td>0.003303</td>\n      <td>0.020459</td>\n      <td>0.976238</td>\n      <td>7</td>\n      <td>Amazing!</td>\n      <td>The kind of movie you can watch in a loop.\\nAm...</td>\n    </tr>\n    <tr>\n      <th>459</th>\n      <td>499</td>\n      <td>0.003964</td>\n      <td>0.011338</td>\n      <td>0.984698</td>\n      <td>5</td>\n      <td>Ahead of Time</td>\n      <td>Simply Great!\\nHave no words to explain what t...</td>\n    </tr>\n  </tbody>\n</table>\n<p>460 rows × 7 columns</p>\n</div>"
     },
     "execution_count": 31,
     "metadata": {},
     "output_type": "execute_result"
    }
   ],
   "source": [
    "#Printing the dataframe\n",
    "Matrix"
   ],
   "metadata": {
    "collapsed": false,
    "pycharm": {
     "name": "#%%\n"
    }
   }
  },
  {
   "cell_type": "markdown",
   "metadata": {
    "collapsed": false,
    "pycharm": {
     "name": "#%% md\n"
    }
   },
   "source": [
    "### 3rd Movie : Interstellar"
   ]
  },
  {
   "cell_type": "code",
   "execution_count": 32,
   "metadata": {
    "collapsed": false,
    "pycharm": {
     "name": "#%%\n"
    }
   },
   "outputs": [
    {
     "data": {
      "text/plain": "  0%|          | 0/613 [00:00<?, ?it/s]",
      "application/vnd.jupyter.widget-view+json": {
       "version_major": 2,
       "version_minor": 0,
       "model_id": "f44f13d67ba54ac28903a92bff535a6c"
      }
     },
     "metadata": {},
     "output_type": "display_data"
    },
    {
     "data": {
      "text/plain": "  0%|          | 0/500 [00:00<?, ?it/s]",
      "application/vnd.jupyter.widget-view+json": {
       "version_major": 2,
       "version_minor": 0,
       "model_id": "4e7eb76700c74058bb1613dcfca421ca"
      }
     },
     "metadata": {},
     "output_type": "display_data"
    },
    {
     "data": {
      "text/plain": "<Figure size 864x216 with 3 Axes>",
      "image/png": "[encoded data removed]"
     },
     "metadata": {},
     "output_type": "display_data"
    }
   ],
   "source": [
    "reviews = scrapping_movie_reviews(movies[2])\n",
    "reviews = reviews.head(500)\n",
    "res = {}\n",
    "for i, row in tqdm(reviews.iterrows(), total=len(reviews)):\n",
    "    try:\n",
    "        text = row['review']\n",
    "        myid = row['index']\n",
    "        roberta_result = polarity_scores_roberta(text)\n",
    "        res[myid] = roberta_result\n",
    "    except RuntimeError :\n",
    "        continue\n",
    "    except IndexError:\n",
    "        continue\n",
    "\n",
    "Interstellar = pd.DataFrame(res).T\n",
    "Interstellar = Interstellar.reset_index()\n",
    "Interstellar = Interstellar.merge(reviews, how='left')\n",
    "Interstellar = Interstellar.sort_values('index')\n",
    "Interstellar.to_csv(\"Interstellar.csv\")\n",
    "fig, axs = plt.subplots(1, 3, figsize=(12, 3))\n",
    "sns.barplot(data=Interstellar, x='rating', y='pos', ax=axs[0])\n",
    "sns.barplot(data=Interstellar, x='rating', y='neu', ax=axs[1])\n",
    "sns.barplot(data=Interstellar, x='rating', y='neg', ax=axs[2])\n",
    "axs[0].set_title('Positive')\n",
    "axs[1].set_title('Neutral')\n",
    "axs[2].set_title('Negative')\n",
    "plt.tight_layout()\n",
    "plt.show()"
   ]
  },
  {
   "cell_type": "code",
   "execution_count": 33,
   "outputs": [
    {
     "data": {
      "text/plain": "     index       neg       neu       pos  rating  \\\n0        3  0.040598  0.074440  0.884962      10   \n1        4  0.018842  0.121747  0.859411      10   \n2        6  0.004615  0.037071  0.958314      10   \n3        7  0.032201  0.112654  0.855145      10   \n4        8  0.050087  0.246094  0.703819      10   \n..     ...       ...       ...       ...     ...   \n440    495  0.798058  0.173482  0.028460       3   \n441    496  0.050330  0.130688  0.818982      10   \n442    497  0.569291  0.321239  0.109470       6   \n443    498  0.219790  0.344930  0.435280       6   \n444    499  0.386423  0.375533  0.238043       2   \n\n                                                 title  \\\n0                   I waited 5 years to watch it again   \n1    The GENIUS shocks the world by another unique ...   \n2                    Best movie I have seen in my life   \n3                                       'Interstellar'   \n4                                   Epic in every way!   \n..                                                 ...   \n440                             Where do I even begin?   \n441                                 My favourite movie   \n442  Relativity slows down time in the movie till y...   \n443                                       disappointed   \n444                  ALMOST great but ultimately awful   \n\n                                                review  \n0    After watching this insane movie in the theatr...  \n1    (((WOW)))...!!!It's almost impossible to put i...  \n2    This movie was the best written, acted, visual...  \n3    'Interstellar' was incredible. The visuals, th...  \n4    Just watched Interstellar in imax 70mm. Scienc...  \n..                                                 ...  \n440  Having just seen this with my fellow movie buf...  \n441  This is actually my nº 1 movie in the best eve...  \n442  OK, I get it ! It's a Nolan movie so everyone ...  \n443  First, I like all works of Christopher Nolan. ...  \n444  People who are defending this movie clearly do...  \n\n[445 rows x 7 columns]",
      "text/html": "<div>\n<style scoped>\n    .dataframe tbody tr th:only-of-type {\n        vertical-align: middle;\n    }\n\n    .dataframe tbody tr th {\n        vertical-align: top;\n    }\n\n    .dataframe thead th {\n        text-align: right;\n    }\n</style>\n<table border=\"1\" class=\"dataframe\">\n  <thead>\n    <tr style=\"text-align: right;\">\n      <th></th>\n      <th>index</th>\n      <th>neg</th>\n      <th>neu</th>\n      <th>pos</th>\n      <th>rating</th>\n      <th>title</th>\n      <th>review</th>\n    </tr>\n  </thead>\n  <tbody>\n    <tr>\n      <th>0</th>\n      <td>3</td>\n      <td>0.040598</td>\n      <td>0.074440</td>\n      <td>0.884962</td>\n      <td>10</td>\n      <td>I waited 5 years to watch it again</td>\n      <td>After watching this insane movie in the theatr...</td>\n    </tr>\n    <tr>\n      <th>1</th>\n      <td>4</td>\n      <td>0.018842</td>\n      <td>0.121747</td>\n      <td>0.859411</td>\n      <td>10</td>\n      <td>The GENIUS shocks the world by another unique ...</td>\n      <td>(((WOW)))...!!!It's almost impossible to put i...</td>\n    </tr>\n    <tr>\n      <th>2</th>\n      <td>6</td>\n      <td>0.004615</td>\n      <td>0.037071</td>\n      <td>0.958314</td>\n      <td>10</td>\n      <td>Best movie I have seen in my life</td>\n      <td>This movie was the best written, acted, visual...</td>\n    </tr>\n    <tr>\n      <th>3</th>\n      <td>7</td>\n      <td>0.032201</td>\n      <td>0.112654</td>\n      <td>0.855145</td>\n      <td>10</td>\n      <td>'Interstellar'</td>\n      <td>'Interstellar' was incredible. The visuals, th...</td>\n    </tr>\n    <tr>\n      <th>4</th>\n      <td>8</td>\n      <td>0.050087</td>\n      <td>0.246094</td>\n      <td>0.703819</td>\n      <td>10</td>\n      <td>Epic in every way!</td>\n      <td>Just watched Interstellar in imax 70mm. Scienc...</td>\n    </tr>\n    <tr>\n      <th>...</th>\n      <td>...</td>\n      <td>...</td>\n      <td>...</td>\n      <td>...</td>\n      <td>...</td>\n      <td>...</td>\n      <td>...</td>\n    </tr>\n    <tr>\n      <th>440</th>\n      <td>495</td>\n      <td>0.798058</td>\n      <td>0.173482</td>\n      <td>0.028460</td>\n      <td>3</td>\n      <td>Where do I even begin?</td>\n      <td>Having just seen this with my fellow movie buf...</td>\n    </tr>\n    <tr>\n      <th>441</th>\n      <td>496</td>\n      <td>0.050330</td>\n      <td>0.130688</td>\n      <td>0.818982</td>\n      <td>10</td>\n      <td>My favourite movie</td>\n      <td>This is actually my nº 1 movie in the best eve...</td>\n    </tr>\n    <tr>\n      <th>442</th>\n      <td>497</td>\n      <td>0.569291</td>\n      <td>0.321239</td>\n      <td>0.109470</td>\n      <td>6</td>\n      <td>Relativity slows down time in the movie till y...</td>\n      <td>OK, I get it ! It's a Nolan movie so everyone ...</td>\n    </tr>\n    <tr>\n      <th>443</th>\n      <td>498</td>\n      <td>0.219790</td>\n      <td>0.344930</td>\n      <td>0.435280</td>\n      <td>6</td>\n      <td>disappointed</td>\n      <td>First, I like all works of Christopher Nolan. ...</td>\n    </tr>\n    <tr>\n      <th>444</th>\n      <td>499</td>\n      <td>0.386423</td>\n      <td>0.375533</td>\n      <td>0.238043</td>\n      <td>2</td>\n      <td>ALMOST great but ultimately awful</td>\n      <td>People who are defending this movie clearly do...</td>\n    </tr>\n  </tbody>\n</table>\n<p>445 rows × 7 columns</p>\n</div>"
     },
     "execution_count": 33,
     "metadata": {},
     "output_type": "execute_result"
    }
   ],
   "source": [
    "#Printing the dataframe\n",
    "Interstellar"
   ],
   "metadata": {
    "collapsed": false,
    "pycharm": {
     "name": "#%%\n"
    }
   }
  },
  {
   "cell_type": "markdown",
   "metadata": {
    "collapsed": false,
    "pycharm": {
     "name": "#%% md\n"
    }
   },
   "source": [
    "### 4th movie : The Avengers"
   ]
  },
  {
   "cell_type": "code",
   "execution_count": 34,
   "metadata": {
    "collapsed": false,
    "pycharm": {
     "name": "#%%\n"
    }
   },
   "outputs": [
    {
     "data": {
      "text/plain": "  0%|          | 0/613 [00:00<?, ?it/s]",
      "application/vnd.jupyter.widget-view+json": {
       "version_major": 2,
       "version_minor": 0,
       "model_id": "e4964f548ba84b1d87df6ca3cc3e1540"
      }
     },
     "metadata": {},
     "output_type": "display_data"
    },
    {
     "data": {
      "text/plain": "  0%|          | 0/500 [00:00<?, ?it/s]",
      "application/vnd.jupyter.widget-view+json": {
       "version_major": 2,
       "version_minor": 0,
       "model_id": "c5ceb60040564651948204f7d716612e"
      }
     },
     "metadata": {},
     "output_type": "display_data"
    },
    {
     "data": {
      "text/plain": "<Figure size 864x216 with 3 Axes>",
      "image/png": "[encoded data removed]"
     },
     "metadata": {},
     "output_type": "display_data"
    }
   ],
   "source": [
    "reviews = scrapping_movie_reviews(movies[3])\n",
    "reviews = reviews.head(500)\n",
    "res = {}\n",
    "for i, row in tqdm(reviews.iterrows(), total=len(reviews)):\n",
    "    try:\n",
    "        text = row['review']\n",
    "        myid = row['index']\n",
    "        roberta_result = polarity_scores_roberta(text)\n",
    "        res[myid] = roberta_result\n",
    "    except RuntimeError :\n",
    "        continue\n",
    "    except IndexError:\n",
    "        continue\n",
    "\n",
    "Avengers = pd.DataFrame(res).T\n",
    "Avengers = Avengers.reset_index()\n",
    "Avengers = Avengers.merge(reviews, how='left')\n",
    "Avengers = Avengers.sort_values('index')\n",
    "Avengers.to_csv('Avengers.csv')\n",
    "fig, axs = plt.subplots(1, 3, figsize=(12, 3))\n",
    "sns.barplot(data=Avengers, x='rating', y='pos', ax=axs[0])\n",
    "sns.barplot(data=Avengers, x='rating', y='neu', ax=axs[1])\n",
    "sns.barplot(data=Avengers, x='rating', y='neg', ax=axs[2])\n",
    "axs[0].set_title('Positive')\n",
    "axs[1].set_title('Neutral')\n",
    "axs[2].set_title('Negative')\n",
    "plt.tight_layout()\n",
    "plt.show()"
   ]
  },
  {
   "cell_type": "code",
   "execution_count": 37,
   "outputs": [
    {
     "data": {
      "text/plain": "     index       neg       neu       pos  rating  \\\n0        2  0.008473  0.050284  0.941242      10   \n1        3  0.735973  0.224252  0.039776       1   \n2        4  0.008833  0.096105  0.895061       9   \n3        5  0.002199  0.010524  0.987277       9   \n4        6  0.959498  0.034818  0.005684       2   \n..     ...       ...       ...       ...     ...   \n397    495  0.049076  0.251681  0.699242       6   \n398    496  0.854768  0.118872  0.026360       6   \n399    497  0.014135  0.056943  0.928922      10   \n400    498  0.002875  0.015536  0.981589      10   \n401    499  0.041698  0.183401  0.774901      10   \n\n                                                 title  \\\n0                                A Comic Book Triumph!   \n1                    A consummate failure - here's why   \n2                             Nothing Short of Amazing   \n3                                  Great, GREAT FILM!!   \n4                           2 1/2 hours of wasted time   \n..                                                 ...   \n397              A simple, fun, well-made summer movie   \n398                      Not the Best movie ever seen!   \n399                                   bravo bravo!!!!!   \n400                           Best Marvel Film Ever!!!   \n401  OK - so how much money has this production cos...   \n\n                                                review  \n0    I was lucky enough to be included in the group...  \n1    Here's why \"The Avengers\" fails so badly.1. Wr...  \n2    I just saw the early screening for San Diego t...  \n3    Ever since the beginning of the film, I was so...  \n4    I don't want to waste more time talking about ...  \n..                                                 ...  \n397  Here's a simple, fun, well-made summer movie. ...  \n398  I am really disappointed by IMDb! It cannot be...  \n399  The Avengers is a smash! This movie was very w...  \n400  This film was great. It had everything. Heroes...  \n401  OK so you have Marvel's most iconic superheroe...  \n\n[402 rows x 7 columns]",
      "text/html": "<div>\n<style scoped>\n    .dataframe tbody tr th:only-of-type {\n        vertical-align: middle;\n    }\n\n    .dataframe tbody tr th {\n        vertical-align: top;\n    }\n\n    .dataframe thead th {\n        text-align: right;\n    }\n</style>\n<table border=\"1\" class=\"dataframe\">\n  <thead>\n    <tr style=\"text-align: right;\">\n      <th></th>\n      <th>index</th>\n      <th>neg</th>\n      <th>neu</th>\n      <th>pos</th>\n      <th>rating</th>\n      <th>title</th>\n      <th>review</th>\n    </tr>\n  </thead>\n  <tbody>\n    <tr>\n      <th>0</th>\n      <td>2</td>\n      <td>0.008473</td>\n      <td>0.050284</td>\n      <td>0.941242</td>\n      <td>10</td>\n      <td>A Comic Book Triumph!</td>\n      <td>I was lucky enough to be included in the group...</td>\n    </tr>\n    <tr>\n      <th>1</th>\n      <td>3</td>\n      <td>0.735973</td>\n      <td>0.224252</td>\n      <td>0.039776</td>\n      <td>1</td>\n      <td>A consummate failure - here's why</td>\n      <td>Here's why \"The Avengers\" fails so badly.1. Wr...</td>\n    </tr>\n    <tr>\n      <th>2</th>\n      <td>4</td>\n      <td>0.008833</td>\n      <td>0.096105</td>\n      <td>0.895061</td>\n      <td>9</td>\n      <td>Nothing Short of Amazing</td>\n      <td>I just saw the early screening for San Diego t...</td>\n    </tr>\n    <tr>\n      <th>3</th>\n      <td>5</td>\n      <td>0.002199</td>\n      <td>0.010524</td>\n      <td>0.987277</td>\n      <td>9</td>\n      <td>Great, GREAT FILM!!</td>\n      <td>Ever since the beginning of the film, I was so...</td>\n    </tr>\n    <tr>\n      <th>4</th>\n      <td>6</td>\n      <td>0.959498</td>\n      <td>0.034818</td>\n      <td>0.005684</td>\n      <td>2</td>\n      <td>2 1/2 hours of wasted time</td>\n      <td>I don't want to waste more time talking about ...</td>\n    </tr>\n    <tr>\n      <th>...</th>\n      <td>...</td>\n      <td>...</td>\n      <td>...</td>\n      <td>...</td>\n      <td>...</td>\n      <td>...</td>\n      <td>...</td>\n    </tr>\n    <tr>\n      <th>397</th>\n      <td>495</td>\n      <td>0.049076</td>\n      <td>0.251681</td>\n      <td>0.699242</td>\n      <td>6</td>\n      <td>A simple, fun, well-made summer movie</td>\n      <td>Here's a simple, fun, well-made summer movie. ...</td>\n    </tr>\n    <tr>\n      <th>398</th>\n      <td>496</td>\n      <td>0.854768</td>\n      <td>0.118872</td>\n      <td>0.026360</td>\n      <td>6</td>\n      <td>Not the Best movie ever seen!</td>\n      <td>I am really disappointed by IMDb! It cannot be...</td>\n    </tr>\n    <tr>\n      <th>399</th>\n      <td>497</td>\n      <td>0.014135</td>\n      <td>0.056943</td>\n      <td>0.928922</td>\n      <td>10</td>\n      <td>bravo bravo!!!!!</td>\n      <td>The Avengers is a smash! This movie was very w...</td>\n    </tr>\n    <tr>\n      <th>400</th>\n      <td>498</td>\n      <td>0.002875</td>\n      <td>0.015536</td>\n      <td>0.981589</td>\n      <td>10</td>\n      <td>Best Marvel Film Ever!!!</td>\n      <td>This film was great. It had everything. Heroes...</td>\n    </tr>\n    <tr>\n      <th>401</th>\n      <td>499</td>\n      <td>0.041698</td>\n      <td>0.183401</td>\n      <td>0.774901</td>\n      <td>10</td>\n      <td>OK - so how much money has this production cos...</td>\n      <td>OK so you have Marvel's most iconic superheroe...</td>\n    </tr>\n  </tbody>\n</table>\n<p>402 rows × 7 columns</p>\n</div>"
     },
     "execution_count": 37,
     "metadata": {},
     "output_type": "execute_result"
    }
   ],
   "source": [
    "#Printing the dataframe\n",
    "Avengers"
   ],
   "metadata": {
    "collapsed": false,
    "pycharm": {
     "name": "#%%\n"
    }
   }
  },
  {
   "cell_type": "markdown",
   "metadata": {
    "collapsed": false,
    "pycharm": {
     "name": "#%% md\n"
    }
   },
   "source": [
    "### 5th movie : Star Wars"
   ]
  },
  {
   "cell_type": "code",
   "execution_count": 35,
   "metadata": {
    "collapsed": false,
    "pycharm": {
     "name": "#%%\n"
    }
   },
   "outputs": [
    {
     "data": {
      "text/plain": "  0%|          | 0/613 [00:00<?, ?it/s]",
      "application/vnd.jupyter.widget-view+json": {
       "version_major": 2,
       "version_minor": 0,
       "model_id": "dedc62fe3ad843268fd21c8e57fd847b"
      }
     },
     "metadata": {},
     "output_type": "display_data"
    },
    {
     "data": {
      "text/plain": "  0%|          | 0/500 [00:00<?, ?it/s]",
      "application/vnd.jupyter.widget-view+json": {
       "version_major": 2,
       "version_minor": 0,
       "model_id": "8453fb9c02704c95bd67268ae52e285e"
      }
     },
     "metadata": {},
     "output_type": "display_data"
    },
    {
     "data": {
      "text/plain": "<Figure size 864x216 with 3 Axes>",
      "image/png": "[encoded data removed]"
     },
     "metadata": {},
     "output_type": "display_data"
    }
   ],
   "source": [
    "reviews = scrapping_movie_reviews(movies[4])\n",
    "reviews = reviews.head(500)\n",
    "res = {}\n",
    "for i, row in tqdm(reviews.iterrows(), total=len(reviews)):\n",
    "    try:\n",
    "        text = row['review']\n",
    "        myid = row['index']\n",
    "        roberta_result = polarity_scores_roberta(text)\n",
    "        res[myid] = roberta_result\n",
    "    except RuntimeError :\n",
    "        continue\n",
    "    except IndexError:\n",
    "        continue\n",
    "\n",
    "Star_Wars = pd.DataFrame(res).T\n",
    "Star_Wars = Star_Wars.reset_index()\n",
    "Star_Wars = Star_Wars.merge(reviews, how='left')\n",
    "Star_Wars = Star_Wars.sort_values('index')\n",
    "Star_Wars.to_csv('Star_Wars.csv')\n",
    "fig, axs = plt.subplots(1, 3, figsize=(12, 3))\n",
    "sns.barplot(data=Star_Wars, x='rating', y='pos', ax=axs[0])\n",
    "sns.barplot(data=Star_Wars, x='rating', y='neu', ax=axs[1])\n",
    "sns.barplot(data=Star_Wars, x='rating', y='neg', ax=axs[2])\n",
    "axs[0].set_title('Positive')\n",
    "axs[1].set_title('Neutral')\n",
    "axs[2].set_title('Negative')\n",
    "plt.tight_layout()\n",
    "plt.show()"
   ]
  },
  {
   "cell_type": "code",
   "execution_count": 36,
   "outputs": [
    {
     "data": {
      "text/plain": "     index       neg       neu       pos  rating  \\\n0        1  0.204268  0.401637  0.394094      10   \n1        2  0.003742  0.026614  0.969644      10   \n2        3  0.007734  0.042429  0.949837      10   \n3        4  0.877824  0.101096  0.021080       1   \n4        5  0.047332  0.396076  0.556592      10   \n..     ...       ...       ...       ...     ...   \n423    495  0.034339  0.117818  0.847843      10   \n424    496  0.001757  0.016402  0.981842      10   \n425    497  0.010497  0.040138  0.949365      10   \n426    498  0.026566  0.329827  0.643607      10   \n427    499  0.001114  0.018857  0.980029       9   \n\n                                                 title  \\\n0                      The film that changed the world   \n1                                      No words to say   \n2                         Where It All Began-----10/10   \n3               The most over-rated movie of all time.   \n4    The greatest cinematic epic of all time begins...   \n..                                                 ...   \n423                     Greatest movie ever made innit   \n424  The First Star Wars movie is Also one of my Fa...   \n425  Better than going to Toshi station to pick up ...   \n426                     This is how the story was born   \n427                  May The Force Be With You, Always   \n\n                                                review  \n0    Star wars made epic fantasy real. For a genera...  \n1    There's not much to say about this movie this ...  \n2    I can never pick a favorite movie because diff...  \n3    I liked this movie when it first came out.  As...  \n4    Here begins the greatest cinematic epic of all...  \n..                                                 ...  \n423  My deepest pity goes out to anyone who picks a...  \n424  The characters are all well-defined! The plot ...  \n425  Ignoring the amazing score, the great story an...  \n426  Star Wars. Episode 1. The Phantom Menace....An...  \n427  I've taken my first step into a larger world w...  \n\n[428 rows x 7 columns]",
      "text/html": "<div>\n<style scoped>\n    .dataframe tbody tr th:only-of-type {\n        vertical-align: middle;\n    }\n\n    .dataframe tbody tr th {\n        vertical-align: top;\n    }\n\n    .dataframe thead th {\n        text-align: right;\n    }\n</style>\n<table border=\"1\" class=\"dataframe\">\n  <thead>\n    <tr style=\"text-align: right;\">\n      <th></th>\n      <th>index</th>\n      <th>neg</th>\n      <th>neu</th>\n      <th>pos</th>\n      <th>rating</th>\n      <th>title</th>\n      <th>review</th>\n    </tr>\n  </thead>\n  <tbody>\n    <tr>\n      <th>0</th>\n      <td>1</td>\n      <td>0.204268</td>\n      <td>0.401637</td>\n      <td>0.394094</td>\n      <td>10</td>\n      <td>The film that changed the world</td>\n      <td>Star wars made epic fantasy real. For a genera...</td>\n    </tr>\n    <tr>\n      <th>1</th>\n      <td>2</td>\n      <td>0.003742</td>\n      <td>0.026614</td>\n      <td>0.969644</td>\n      <td>10</td>\n      <td>No words to say</td>\n      <td>There's not much to say about this movie this ...</td>\n    </tr>\n    <tr>\n      <th>2</th>\n      <td>3</td>\n      <td>0.007734</td>\n      <td>0.042429</td>\n      <td>0.949837</td>\n      <td>10</td>\n      <td>Where It All Began-----10/10</td>\n      <td>I can never pick a favorite movie because diff...</td>\n    </tr>\n    <tr>\n      <th>3</th>\n      <td>4</td>\n      <td>0.877824</td>\n      <td>0.101096</td>\n      <td>0.021080</td>\n      <td>1</td>\n      <td>The most over-rated movie of all time.</td>\n      <td>I liked this movie when it first came out.  As...</td>\n    </tr>\n    <tr>\n      <th>4</th>\n      <td>5</td>\n      <td>0.047332</td>\n      <td>0.396076</td>\n      <td>0.556592</td>\n      <td>10</td>\n      <td>The greatest cinematic epic of all time begins...</td>\n      <td>Here begins the greatest cinematic epic of all...</td>\n    </tr>\n    <tr>\n      <th>...</th>\n      <td>...</td>\n      <td>...</td>\n      <td>...</td>\n      <td>...</td>\n      <td>...</td>\n      <td>...</td>\n      <td>...</td>\n    </tr>\n    <tr>\n      <th>423</th>\n      <td>495</td>\n      <td>0.034339</td>\n      <td>0.117818</td>\n      <td>0.847843</td>\n      <td>10</td>\n      <td>Greatest movie ever made innit</td>\n      <td>My deepest pity goes out to anyone who picks a...</td>\n    </tr>\n    <tr>\n      <th>424</th>\n      <td>496</td>\n      <td>0.001757</td>\n      <td>0.016402</td>\n      <td>0.981842</td>\n      <td>10</td>\n      <td>The First Star Wars movie is Also one of my Fa...</td>\n      <td>The characters are all well-defined! The plot ...</td>\n    </tr>\n    <tr>\n      <th>425</th>\n      <td>497</td>\n      <td>0.010497</td>\n      <td>0.040138</td>\n      <td>0.949365</td>\n      <td>10</td>\n      <td>Better than going to Toshi station to pick up ...</td>\n      <td>Ignoring the amazing score, the great story an...</td>\n    </tr>\n    <tr>\n      <th>426</th>\n      <td>498</td>\n      <td>0.026566</td>\n      <td>0.329827</td>\n      <td>0.643607</td>\n      <td>10</td>\n      <td>This is how the story was born</td>\n      <td>Star Wars. Episode 1. The Phantom Menace....An...</td>\n    </tr>\n    <tr>\n      <th>427</th>\n      <td>499</td>\n      <td>0.001114</td>\n      <td>0.018857</td>\n      <td>0.980029</td>\n      <td>9</td>\n      <td>May The Force Be With You, Always</td>\n      <td>I've taken my first step into a larger world w...</td>\n    </tr>\n  </tbody>\n</table>\n<p>428 rows × 7 columns</p>\n</div>"
     },
     "execution_count": 36,
     "metadata": {},
     "output_type": "execute_result"
    }
   ],
   "source": [
    "#Printing the dataframe\n",
    "Star_Wars"
   ],
   "metadata": {
    "collapsed": false,
    "pycharm": {
     "name": "#%%\n"
    }
   }
  }
 ],
 "metadata": {
  "kernelspec": {
   "display_name": "Python 3.11.0 64-bit",
   "language": "python",
   "name": "python3"
  },
  "language_info": {
   "codemirror_mode": {
    "name": "ipython",
    "version": 3
   },
   "file_extension": ".py",
   "mimetype": "text/x-python",
   "name": "python",
   "nbconvert_exporter": "python",
   "pygments_lexer": "ipython3",
   "version": "3.11.0"
  },
  "vscode": {
   "interpreter": {
    "hash": "c261aea317cc0286b3b3261fbba9abdec21eaa57589985bb7a274bf54d6cc0a7"
   }
  }
 },
 "nbformat": 4,
 "nbformat_minor": 1
}