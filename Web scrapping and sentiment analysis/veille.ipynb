{
 "cells": [
  {
   "cell_type": "markdown",
   "metadata": {
    "collapsed": false,
    "pycharm": {
     "name": "#%% md\n"
    }
   },
   "source": [
    "# DS TECHNIQUE DE VEILLE\n",
    "This code is wrote by Ameny IHKAF and Mehdi SOMRANI"
   ]
  },
  {
   "cell_type": "markdown",
   "source": [
    "## Scrapping movies' data\n",
    "## Importing needed libraries"
   ],
   "metadata": {
    "collapsed": false,
    "pycharm": {
     "name": "#%% md\n"
    }
   }
  },
  {
   "cell_type": "code",
   "execution_count": 2,
   "metadata": {
    "collapsed": false,
    "pycharm": {
     "name": "#%%\n"
    }
   },
   "outputs": [],
   "source": [
    "import requests\n",
    "from bs4 import BeautifulSoup\n",
    "import pandas as pd\n",
    "from tqdm.auto import tqdm"
   ]
  },
  {
   "cell_type": "markdown",
   "metadata": {
    "collapsed": false,
    "pycharm": {
     "name": "#%% md\n"
    }
   },
   "source": [
    "### Requesting and scrapping  data"
   ]
  },
  {
   "cell_type": "code",
   "execution_count": null,
   "metadata": {
    "collapsed": false,
    "pycharm": {
     "name": "#%%\n"
    }
   },
   "outputs": [],
   "source": [
    "#Initialing\n",
    "movies_index=1\n",
    "movie_content_list = []\n",
    "url = \"https://www.imdb.com/search/title/?title_type=feature&genres=sci-fi&sort=num_votes,desc&count=250\"\n",
    "resp = requests.get(url)\n",
    "movies_content = BeautifulSoup(resp.content, 'lxml')\n",
    "\n",
    "with tqdm(total=812) as pbar:\n",
    "    while len(movie_content_list) < 800 :\n",
    "        movies_index = movies_index + 250\n",
    "        #scrapping and organizing data into dictionnary\n",
    "        for movie in movies_content.select('.lister-item-content'):\n",
    "\n",
    "            #Decomposing the scrapped web page into key:value dictionary\n",
    "            try:\n",
    "                data = {\n",
    "            \"id\": movie.find('a', href=True)['href'],\n",
    "            \"title\":movie.select('.lister-item-header a')[0].get_text().strip(),\n",
    "            \"year\":movie.select('.lister-item-year')[0].get_text().strip(),\n",
    "            \"genre\":movie.select('.genre')[0].get_text().strip(),\n",
    "            \"certificate\":movie.select('.certificate')[0].get_text().strip(),\n",
    "            \"time\":movie.select('.runtime')[0].get_text().strip(),\n",
    "            \"ImdbRating\":movie.select('.ratings-imdb-rating')[0].get_text().strip(),\n",
    "            \"metascore\":movie.select('.ratings-metascore span')[0].get_text().strip(),\n",
    "            \"votes\":movie.select('.sort-num_votes-visible span')[1].get_text().strip(),\n",
    "            \"simple_desc\":movie.select('.text-muted')[2].get_text().strip(),\n",
    "                }\n",
    "                #Updating TQDM progress bar\n",
    "                pbar.update(1)\n",
    "            #Skip if the movie is missing any of the needed values\n",
    "            except IndexError:\n",
    "                continue\n",
    "\n",
    "            #adding the dictionary to a list of dictionaries\n",
    "            movie_content_list.append(data)\n",
    "\n",
    "        #updating the url to next page and re-running the request and scrapping\n",
    "        url = f\"https://www.imdb.com/search/title/?title_type=feature&genres=sci-fi&sort=num_votes,desc&count=250&amp;start={movies_index}&amp;ref_=adv_nxt\"\n",
    "        resp = requests.get(url)\n",
    "        movies_content = BeautifulSoup(resp.content, 'lxml')\n"
   ]
  },
  {
   "cell_type": "markdown",
   "metadata": {
    "collapsed": false,
    "pycharm": {
     "name": "#%% md\n"
    }
   },
   "source": [
    "### Converting to Dataframe and cleaning\n"
   ]
  },
  {
   "cell_type": "code",
   "execution_count": null,
   "metadata": {
    "collapsed": false,
    "pycharm": {
     "name": "#%%\n"
    }
   },
   "outputs": [],
   "source": [
    "# Converting to Dataframe\n",
    "movies_df = pd.DataFrame(movie_content_list)\n",
    "movies_df"
   ]
  },
  {
   "cell_type": "markdown",
   "metadata": {
    "collapsed": false,
    "pycharm": {
     "name": "#%% md\n"
    }
   },
   "source": [
    "### Cleaning The Dataframe"
   ]
  },
  {
   "cell_type": "code",
   "execution_count": null,
   "metadata": {
    "collapsed": false,
    "pycharm": {
     "name": "#%%\n"
    }
   },
   "outputs": [],
   "source": [
    "movies_df .dtypes"
   ]
  },
  {
   "cell_type": "code",
   "execution_count": null,
   "metadata": {
    "pycharm": {
     "name": "#%%\n"
    }
   },
   "outputs": [],
   "source": [
    "#changing columns Types to string\n",
    "movies_df  = movies_df .astype('string')"
   ]
  },
  {
   "cell_type": "code",
   "execution_count": null,
   "metadata": {
    "collapsed": false,
    "pycharm": {
     "name": "#%%\n"
    }
   },
   "outputs": [],
   "source": [
    "#removing the uneeded characters from the id\n",
    "movies_df['id'] = movies_df['id'].str[7:-1]"
   ]
  },
  {
   "cell_type": "code",
   "execution_count": null,
   "metadata": {
    "collapsed": false,
    "pycharm": {
     "name": "#%%\n"
    }
   },
   "outputs": [],
   "source": [
    "#removing characters from the yeaer and converting it to integer\n",
    "movies_df ['year'] = movies_df ['year'].str.extract('(\\d+)').astype(int)"
   ]
  },
  {
   "cell_type": "code",
   "execution_count": null,
   "metadata": {
    "collapsed": false,
    "pycharm": {
     "name": "#%%\n"
    }
   },
   "outputs": [],
   "source": [
    "#converting the rating to float\n",
    "movies_df ['ImdbRating'] = movies_df ['ImdbRating'].astype(float)"
   ]
  },
  {
   "cell_type": "code",
   "execution_count": null,
   "metadata": {
    "collapsed": false,
    "pycharm": {
     "name": "#%%\n"
    }
   },
   "outputs": [],
   "source": [
    "#removing the text from the votes and converting it to integer\n",
    "movies_df ['votes'] = movies_df ['votes'].str.replace(',','').astype(int)"
   ]
  },
  {
   "cell_type": "code",
   "execution_count": null,
   "metadata": {
    "collapsed": false,
    "pycharm": {
     "name": "#%%\n"
    }
   },
   "outputs": [],
   "source": [
    "#removing the text from the runtime and converting it to integer\n",
    "movies_df ['time'] = movies_df ['time'].str[0:-3].astype(int)"
   ]
  },
  {
   "cell_type": "code",
   "execution_count": null,
   "metadata": {
    "collapsed": false,
    "pycharm": {
     "name": "#%%\n"
    }
   },
   "outputs": [],
   "source": [
    "#checking if the types have changed\n",
    "movies_df.dtypes"
   ]
  },
  {
   "cell_type": "code",
   "execution_count": null,
   "outputs": [],
   "source": [
    "#Printing the dataframe\n",
    "movies_df"
   ],
   "metadata": {
    "collapsed": false,
    "pycharm": {
     "name": "#%%\n"
    }
   }
  },
  {
   "cell_type": "code",
   "execution_count": 5,
   "metadata": {
    "collapsed": false,
    "pycharm": {
     "name": "#%%\n"
    }
   },
   "outputs": [
    {
     "data": {
      "text/plain": "            id                                      title  year  \\\n0    tt1375666                                  Inception  2010   \n1    tt0133093                                 The Matrix  1999   \n2    tt0816692                               Interstellar  2014   \n3    tt0848228                               The Avengers  2012   \n4    tt0076759                                  Star Wars  1977   \n..         ...                                        ...   ...   \n807  tt0816539                Jack Brooks: Monster Slayer  2007   \n808  tt5737536                               Future World  2018   \n809  tt0165874  The Mating Habits of the Earthbound Human  1999   \n810  tt0055608            Voyage to the Bottom of the Sea  1961   \n811  tt0087004            The Brother from Another Planet  1984   \n\n                          genre certificate  time  ImdbRating  metascore  \\\n0     Action, Adventure, Sci-Fi       PG-13   148         8.8         74   \n1                Action, Sci-Fi           R   136         8.7         73   \n2      Adventure, Drama, Sci-Fi       PG-13   169         8.6         74   \n3     Action, Adventure, Sci-Fi       PG-13   143         8.0         69   \n4    Action, Adventure, Fantasy          PG   121         8.6         90   \n..                          ...         ...   ...         ...        ...   \n807      Action, Comedy, Horror           R    85         5.9         46   \n808   Action, Adventure, Sci-Fi           R    88         3.2         10   \n809              Comedy, Sci-Fi           R    88         6.3         26   \n810   Action, Adventure, Sci-Fi          PG   105         6.0         49   \n811              Comedy, Sci-Fi           R   108         6.8         70   \n\n       votes                                        simple_desc  \n0    2336445  A thief who steals corporate secrets through t...  \n1    1903262  When a beautiful stranger leads computer hacke...  \n2    1810240  A team of explorers travel through a wormhole ...  \n3    1386515  Earth's mightiest heroes must come together an...  \n4    1358944  Luke Skywalker joins forces with a Jedi Knight...  \n..       ...                                                ...  \n807     6452  A troubled young man still mourning the childh...  \n808     6410  A young boy searches a future world wasteland ...  \n809     6328  An anthropologist from an alien planet provide...  \n810     6235  When the Earth is threatened by a burning Van ...  \n811     6186  A mute alien with the appearance of a black hu...  \n\n[812 rows x 10 columns]",
      "text/html": "<div>\n<style scoped>\n    .dataframe tbody tr th:only-of-type {\n        vertical-align: middle;\n    }\n\n    .dataframe tbody tr th {\n        vertical-align: top;\n    }\n\n    .dataframe thead th {\n        text-align: right;\n    }\n</style>\n<table border=\"1\" class=\"dataframe\">\n  <thead>\n    <tr style=\"text-align: right;\">\n      <th></th>\n      <th>id</th>\n      <th>title</th>\n      <th>year</th>\n      <th>genre</th>\n      <th>certificate</th>\n      <th>time</th>\n      <th>ImdbRating</th>\n      <th>metascore</th>\n      <th>votes</th>\n      <th>simple_desc</th>\n    </tr>\n  </thead>\n  <tbody>\n    <tr>\n      <th>0</th>\n      <td>tt1375666</td>\n      <td>Inception</td>\n      <td>2010</td>\n      <td>Action, Adventure, Sci-Fi</td>\n      <td>PG-13</td>\n      <td>148</td>\n      <td>8.8</td>\n      <td>74</td>\n      <td>2336445</td>\n      <td>A thief who steals corporate secrets through t...</td>\n    </tr>\n    <tr>\n      <th>1</th>\n      <td>tt0133093</td>\n      <td>The Matrix</td>\n      <td>1999</td>\n      <td>Action, Sci-Fi</td>\n      <td>R</td>\n      <td>136</td>\n      <td>8.7</td>\n      <td>73</td>\n      <td>1903262</td>\n      <td>When a beautiful stranger leads computer hacke...</td>\n    </tr>\n    <tr>\n      <th>2</th>\n      <td>tt0816692</td>\n      <td>Interstellar</td>\n      <td>2014</td>\n      <td>Adventure, Drama, Sci-Fi</td>\n      <td>PG-13</td>\n      <td>169</td>\n      <td>8.6</td>\n      <td>74</td>\n      <td>1810240</td>\n      <td>A team of explorers travel through a wormhole ...</td>\n    </tr>\n    <tr>\n      <th>3</th>\n      <td>tt0848228</td>\n      <td>The Avengers</td>\n      <td>2012</td>\n      <td>Action, Adventure, Sci-Fi</td>\n      <td>PG-13</td>\n      <td>143</td>\n      <td>8.0</td>\n      <td>69</td>\n      <td>1386515</td>\n      <td>Earth's mightiest heroes must come together an...</td>\n    </tr>\n    <tr>\n      <th>4</th>\n      <td>tt0076759</td>\n      <td>Star Wars</td>\n      <td>1977</td>\n      <td>Action, Adventure, Fantasy</td>\n      <td>PG</td>\n      <td>121</td>\n      <td>8.6</td>\n      <td>90</td>\n      <td>1358944</td>\n      <td>Luke Skywalker joins forces with a Jedi Knight...</td>\n    </tr>\n    <tr>\n      <th>...</th>\n      <td>...</td>\n      <td>...</td>\n      <td>...</td>\n      <td>...</td>\n      <td>...</td>\n      <td>...</td>\n      <td>...</td>\n      <td>...</td>\n      <td>...</td>\n      <td>...</td>\n    </tr>\n    <tr>\n      <th>807</th>\n      <td>tt0816539</td>\n      <td>Jack Brooks: Monster Slayer</td>\n      <td>2007</td>\n      <td>Action, Comedy, Horror</td>\n      <td>R</td>\n      <td>85</td>\n      <td>5.9</td>\n      <td>46</td>\n      <td>6452</td>\n      <td>A troubled young man still mourning the childh...</td>\n    </tr>\n    <tr>\n      <th>808</th>\n      <td>tt5737536</td>\n      <td>Future World</td>\n      <td>2018</td>\n      <td>Action, Adventure, Sci-Fi</td>\n      <td>R</td>\n      <td>88</td>\n      <td>3.2</td>\n      <td>10</td>\n      <td>6410</td>\n      <td>A young boy searches a future world wasteland ...</td>\n    </tr>\n    <tr>\n      <th>809</th>\n      <td>tt0165874</td>\n      <td>The Mating Habits of the Earthbound Human</td>\n      <td>1999</td>\n      <td>Comedy, Sci-Fi</td>\n      <td>R</td>\n      <td>88</td>\n      <td>6.3</td>\n      <td>26</td>\n      <td>6328</td>\n      <td>An anthropologist from an alien planet provide...</td>\n    </tr>\n    <tr>\n      <th>810</th>\n      <td>tt0055608</td>\n      <td>Voyage to the Bottom of the Sea</td>\n      <td>1961</td>\n      <td>Action, Adventure, Sci-Fi</td>\n      <td>PG</td>\n      <td>105</td>\n      <td>6.0</td>\n      <td>49</td>\n      <td>6235</td>\n      <td>When the Earth is threatened by a burning Van ...</td>\n    </tr>\n    <tr>\n      <th>811</th>\n      <td>tt0087004</td>\n      <td>The Brother from Another Planet</td>\n      <td>1984</td>\n      <td>Comedy, Sci-Fi</td>\n      <td>R</td>\n      <td>108</td>\n      <td>6.8</td>\n      <td>70</td>\n      <td>6186</td>\n      <td>A mute alien with the appearance of a black hu...</td>\n    </tr>\n  </tbody>\n</table>\n<p>812 rows × 10 columns</p>\n</div>"
     },
     "execution_count": 5,
     "metadata": {},
     "output_type": "execute_result"
    }
   ],
   "source": [
    "#Converting to csv\n",
    "movies_df.to_csv(\"movies_df.csv\")"
   ]
  },
  {
   "cell_type": "markdown",
   "metadata": {
    "collapsed": false,
    "pycharm": {
     "name": "#%% md\n"
    }
   },
   "source": [
    "## Movies analysis and visualization\n",
    "### Certificates visualization"
   ]
  },
  {
   "cell_type": "code",
   "execution_count": 6,
   "metadata": {
    "collapsed": false,
    "pycharm": {
     "name": "#%%\n"
    }
   },
   "outputs": [],
   "source": [
    "import matplotlib.pyplot as plt\n",
    "import seaborn as sns\n",
    "import numpy as np"
   ]
  },
  {
   "cell_type": "code",
   "execution_count": 7,
   "metadata": {
    "collapsed": false,
    "pycharm": {
     "name": "#%%\n"
    }
   },
   "outputs": [],
   "source": [
    "movies_df_vis = movies_df\n",
    "movies_df_vis = movies_df_vis.groupby(['certificate']).count()\n",
    "movies_df_vis = movies_df_vis['id']\n",
    "movies_df_vis=movies_df_vis.reset_index()"
   ]
  },
  {
   "cell_type": "code",
   "execution_count": 8,
   "metadata": {
    "collapsed": false,
    "pycharm": {
     "name": "#%%\n"
    }
   },
   "outputs": [
    {
     "data": {
      "text/plain": "<Figure size 1440x576 with 1 Axes>",
      "image/png": "[encoded data removed]"
     },
     "metadata": {},
     "output_type": "display_data"
    }
   ],
   "source": [
    "fig, axs = plt.subplots(1, figsize=(20, 8))\n",
    "sns.barplot(data=movies_df_vis, x='certificate', y='id', ax=axs)\n",
    "axs.set_title('Number of movies by Certificate')\n",
    "plt.tight_layout()\n",
    "plt.legend (labels=[\"G : all ages.\",\"M : Mature\",\"PG : Parental Guidance\",\"PG-13 : Parental Strongly Cautioned\",\"R : Restricted\",\"UNRATED : VERY RESTRICTED\"])\n",
    "\n",
    "plt.show()"
   ]
  },
  {
   "cell_type": "markdown",
   "metadata": {
    "collapsed": false,
    "pycharm": {
     "name": "#%% md\n"
    }
   },
   "source": [
    "### Movies per year visualization"
   ]
  },
  {
   "cell_type": "code",
   "execution_count": 9,
   "metadata": {
    "collapsed": false,
    "pycharm": {
     "name": "#%%\n"
    }
   },
   "outputs": [],
   "source": [
    "movies_df_vis = movies_df\n",
    "movies_df_vis = movies_df_vis.groupby(['year']).count()\n",
    "movies_df_vis = movies_df_vis['id']\n",
    "movies_df_vis = movies_df_vis.reset_index()"
   ]
  },
  {
   "cell_type": "code",
   "execution_count": 10,
   "metadata": {
    "collapsed": false,
    "pycharm": {
     "name": "#%%\n"
    }
   },
   "outputs": [
    {
     "data": {
      "text/plain": "<Figure size 1440x576 with 1 Axes>",
      "image/png": "[encoded data removed]"
     },
     "metadata": {},
     "output_type": "display_data"
    }
   ],
   "source": [
    "fig, axs = plt.subplots(1, figsize=(20, 8))\n",
    "ax = sns.lineplot(data=movies_df_vis, x='year', y='id', ax=axs)\n",
    "kdeline = ax.lines[0]\n",
    "axs.set_title('Number of movies each year')\n",
    "xs = kdeline.get_xdata()\n",
    "ys = kdeline.get_ydata()\n",
    "mode_idx = np.argmax(ys)\n",
    "plt.tight_layout()\n",
    "ax.vlines(xs[mode_idx], 0, ys[mode_idx], color='green', ls='--', lw=2)\n",
    "\n",
    "plt.show()"
   ]
  },
  {
   "cell_type": "markdown",
   "metadata": {
    "collapsed": false,
    "pycharm": {
     "name": "#%% md\n"
    }
   },
   "source": [
    "## Requesting and scrapping reviews' data\n",
    "### Importing needed libraries"
   ]
  },
  {
   "cell_type": "code",
   "execution_count": 11,
   "metadata": {
    "collapsed": false,
    "pycharm": {
     "name": "#%%\n"
    }
   },
   "outputs": [],
   "source": [
    "from lxml import etree"
   ]
  },
  {
   "cell_type": "markdown",
   "metadata": {
    "collapsed": false,
    "pycharm": {
     "name": "#%% md\n"
    }
   },
   "source": [
    "### Scrapping Reviews function"
   ]
  },
  {
   "cell_type": "code",
   "execution_count": 12,
   "metadata": {
    "collapsed": false,
    "pycharm": {
     "name": "#%%\n"
    }
   },
   "outputs": [],
   "source": [
    "def scrapping_movie_reviews(movie_id):\n",
    "    df_review_content = []\n",
    "    url =  f\"https://www.imdb.com/title/{movie_id}/reviews?spoiler=hide&sort=totalVotes&dir=desc&ratingFilter=0\"\n",
    "    resp = requests.get(url)\n",
    "    review_content = BeautifulSoup(resp.content, 'lxml')\n",
    "    review_content_converted = etree.HTML(str(review_content))\n",
    "    data_ajaxurl = review_content_converted.xpath('//*[@class=\"load-more-data\"]/@data-ajaxurl')[0]\n",
    "    with tqdm(total=613) as pbar:\n",
    "\n",
    "        while True:\n",
    "            resp = requests.get(url)\n",
    "            #Converting the response to Beautiful Soup Object\n",
    "            review_content = BeautifulSoup(resp.content, 'lxml')\n",
    "            review_content_converted = etree.HTML(str(review_content))\n",
    "\n",
    "            for review in review_content.select('.lister-item-content'):\n",
    "                try:\n",
    "                # Creating a python dictonary\n",
    "                    data = {\n",
    "                    \"rating\":review.select('.rating-other-user-rating span')[0].get_text().strip(),\n",
    "                    \"title\": review.select('.title')[0].get_text().strip(),\n",
    "                    \"review\": review.select('.show-more__control')[0].get_text().strip(),\n",
    "                    }\n",
    "                except IndexError:\n",
    "                    continue\n",
    "                #Updating TQDM progress bar\n",
    "                pbar.update(1)\n",
    "                df_review_content.append(data)\n",
    "            try:\n",
    "                pagination_key = review_content_converted.xpath('//*[@class=\"load-more-data\"]/@data-key')[0]\n",
    "                url = f\"https://www.imdb.com{data_ajaxurl}&paginationKey={pagination_key}\"\n",
    "            except IndexError:\n",
    "                break\n",
    "    reviews = pd.DataFrame(df_review_content)\n",
    "    reviews = reviews.reset_index()\n",
    "    reviews['rating'] = reviews['rating'].astype(int)\n",
    "    return reviews"
   ]
  },
  {
   "cell_type": "markdown",
   "metadata": {
    "collapsed": false,
    "pycharm": {
     "name": "#%% md\n"
    }
   },
   "source": [
    "## Creating reviews Dataframe for the top 5 sci-fi Movies"
   ]
  },
  {
   "cell_type": "markdown",
   "metadata": {
    "collapsed": false,
    "pycharm": {
     "name": "#%% md\n"
    }
   },
   "source": [
    "## Reviews sentiment analysis using ROBERTA\n",
    "### Importing needed libraries"
   ]
  },
  {
   "cell_type": "code",
   "execution_count": 13,
   "metadata": {
    "collapsed": false,
    "pycharm": {
     "name": "#%%\n"
    }
   },
   "outputs": [],
   "source": [
    "from transformers import AutoModelForSequenceClassification\n",
    "from nltk.sentiment import SentimentIntensityAnalyzer\n",
    "from transformers import AutoTokenizer\n",
    "from scipy.special import softmax\n",
    "import matplotlib.pyplot as plt\n",
    "import seaborn as sns\n",
    "import torch\n",
    "import nltk"
   ]
  },
  {
   "cell_type": "markdown",
   "metadata": {
    "collapsed": false,
    "pycharm": {
     "name": "#%% md\n"
    }
   },
   "source": [
    "### Initializing needed variables"
   ]
  },
  {
   "cell_type": "code",
   "execution_count": 16,
   "metadata": {
    "collapsed": false,
    "pycharm": {
     "name": "#%%\n"
    }
   },
   "outputs": [],
   "source": [
    "sia = SentimentIntensityAnalyzer()\n",
    "MODEL = f\"cardiffnlp/twitter-roberta-base-sentiment\"\n",
    "tokenizer = AutoTokenizer.from_pretrained(MODEL)\n",
    "model = AutoModelForSequenceClassification.from_pretrained(MODEL)"
   ]
  },
  {
   "cell_type": "markdown",
   "metadata": {
    "collapsed": false,
    "pycharm": {
     "name": "#%% md\n"
    }
   },
   "source": [
    "## Creating roberta score calculator function"
   ]
  },
  {
   "cell_type": "code",
   "execution_count": 15,
   "metadata": {
    "collapsed": false,
    "pycharm": {
     "name": "#%%\n"
    }
   },
   "outputs": [],
   "source": [
    "def polarity_scores_roberta(example):\n",
    "    encoded_text = tokenizer(example, return_tensors='pt')\n",
    "    output = model(**encoded_text)\n",
    "    scores = output[0][0].detach().numpy()\n",
    "    scores = softmax(scores)\n",
    "    scores_dict = {\n",
    "        'neg' : scores[0],\n",
    "        'neu' : scores[1],\n",
    "        'pos' : scores[2]\n",
    "    }\n",
    "    return scores_dict"
   ]
  },
  {
   "cell_type": "markdown",
   "metadata": {
    "collapsed": false,
    "pycharm": {
     "name": "#%% md\n"
    }
   },
   "source": [
    "## Creating sentiment analysis to top 5 movies"
   ]
  },
  {
   "cell_type": "code",
   "execution_count": 17,
   "metadata": {
    "collapsed": false,
    "pycharm": {
     "name": "#%%\n"
    }
   },
   "outputs": [],
   "source": [
    "movies = list(movies_df['id'].head(5))"
   ]
  },
  {
   "cell_type": "markdown",
   "metadata": {
    "collapsed": false,
    "pycharm": {
     "name": "#%% md\n"
    }
   },
   "source": [
    "### First Movie : INCEPTION"
   ]
  },
  {
   "cell_type": "code",
   "execution_count": 18,
   "metadata": {
    "collapsed": false,
    "pycharm": {
     "name": "#%%\n"
    }
   },
   "outputs": [
    {
     "data": {
      "text/plain": "  0%|          | 0/613 [00:00<?, ?it/s]",
      "application/vnd.jupyter.widget-view+json": {
       "version_major": 2,
       "version_minor": 0,
       "model_id": "d237ea00205540b88d212449b13d991c"
      }
     },
     "metadata": {},
     "output_type": "display_data"
    },
    {
     "data": {
      "text/plain": "  0%|          | 0/500 [00:00<?, ?it/s]",
      "application/vnd.jupyter.widget-view+json": {
       "version_major": 2,
       "version_minor": 0,
       "model_id": "bda6e5ff222c468e8e8241357e57efc1"
      }
     },
     "metadata": {},
     "output_type": "display_data"
    },
    {
     "data": {
      "text/plain": "<Figure size 864x216 with 3 Axes>",
      "image/png": "[encoded data removed]"
     },
     "metadata": {},
     "output_type": "display_data"
    }
   ],
   "source": [
    "reviews = scrapping_movie_reviews(movies[0])\n",
    "reviews = reviews.head(500)\n",
    "res = {}\n",
    "for i, row in tqdm(reviews.iterrows(), total=len(reviews)):\n",
    "    try:\n",
    "        text = row['review']\n",
    "        myid = row['index']\n",
    "        roberta_result = polarity_scores_roberta(text)\n",
    "        res[myid] = roberta_result\n",
    "    except RuntimeError :\n",
    "        continue\n",
    "    except IndexError:\n",
    "        continue\n",
    "\n",
    "Inception = pd.DataFrame(res).T\n",
    "Inception = Inception.reset_index()\n",
    "Inception = Inception.merge(reviews, how='left')\n",
    "Inception = Inception.sort_values('index')\n",
    "Inception.to_csv('Inception.csv')\n",
    "fig, axs = plt.subplots(1, 3, figsize=(12, 3))\n",
    "sns.barplot(data=Inception, x='rating', y='pos', ax=axs[0])\n",
    "sns.barplot(data=Inception, x='rating', y='neu', ax=axs[1])\n",
    "sns.barplot(data=Inception, x='rating', y='neg', ax=axs[2])\n",
    "axs[0].set_title('Positive')\n",
    "axs[1].set_title('Neutral')\n",
    "axs[2].set_title('Negative')\n",
    "plt.tight_layout()\n",
    "plt.show()"
   ]
  },
  {
   "cell_type": "markdown",
   "metadata": {
    "collapsed": false,
    "pycharm": {
     "name": "#%% md\n"
    }
   },
   "source": [
    "### 2nd Movie : THE MATRIX"
   ]
  },
  {
   "cell_type": "code",
   "execution_count": 19,
   "metadata": {
    "collapsed": false,
    "pycharm": {
     "name": "#%%\n"
    }
   },
   "outputs": [
    {
     "data": {
      "text/plain": "  0%|          | 0/613 [00:00<?, ?it/s]",
      "application/vnd.jupyter.widget-view+json": {
       "version_major": 2,
       "version_minor": 0,
       "model_id": "8bc49e9e63ad45378533f40da4790076"
      }
     },
     "metadata": {},
     "output_type": "display_data"
    },
    {
     "data": {
      "text/plain": "  0%|          | 0/500 [00:00<?, ?it/s]",
      "application/vnd.jupyter.widget-view+json": {
       "version_major": 2,
       "version_minor": 0,
       "model_id": "f344cd5f60254ddba2d8fb8689591edb"
      }
     },
     "metadata": {},
     "output_type": "display_data"
    },
    {
     "data": {
      "text/plain": "<Figure size 864x216 with 3 Axes>",
      "image/png": "[encoded data removed]"
     },
     "metadata": {},
     "output_type": "display_data"
    }
   ],
   "source": [
    "reviews = scrapping_movie_reviews(movies[1])\n",
    "reviews = reviews.head(500)\n",
    "res = {}\n",
    "for i, row in tqdm(reviews.iterrows(), total=len(reviews)):\n",
    "    try:\n",
    "        text = row['review']\n",
    "        myid = row['index']\n",
    "        roberta_result = polarity_scores_roberta(text)\n",
    "        res[myid] = roberta_result\n",
    "    except RuntimeError :\n",
    "        continue\n",
    "    except IndexError:\n",
    "        continue\n",
    "\n",
    "Matrix = pd.DataFrame(res).T\n",
    "Matrix = Matrix.reset_index()\n",
    "Matrix = Matrix.merge(reviews, how='left')\n",
    "Matrix = Matrix.sort_values('index')\n",
    "Matrix.to_csv('Matrix.csv')\n",
    "fig, axs = plt.subplots(1, 3, figsize=(12, 3))\n",
    "sns.barplot(data=Matrix, x='rating', y='pos', ax=axs[0])\n",
    "sns.barplot(data=Matrix, x='rating', y='neu', ax=axs[1])\n",
    "sns.barplot(data=Matrix, x='rating', y='neg', ax=axs[2])\n",
    "axs[0].set_title('Positive')\n",
    "axs[1].set_title('Neutral')\n",
    "axs[2].set_title('Negative')\n",
    "plt.tight_layout()\n",
    "plt.show()"
   ]
  },
  {
   "cell_type": "markdown",
   "metadata": {
    "collapsed": false,
    "pycharm": {
     "name": "#%% md\n"
    }
   },
   "source": [
    "### 3rd Movie : Interstellar"
   ]
  },
  {
   "cell_type": "code",
   "execution_count": 20,
   "metadata": {
    "collapsed": false,
    "pycharm": {
     "name": "#%%\n"
    }
   },
   "outputs": [
    {
     "data": {
      "text/plain": "  0%|          | 0/613 [00:00<?, ?it/s]",
      "application/vnd.jupyter.widget-view+json": {
       "version_major": 2,
       "version_minor": 0,
       "model_id": "f8296ad7ea3344409b2862a82a19dc5d"
      }
     },
     "metadata": {},
     "output_type": "display_data"
    },
    {
     "data": {
      "text/plain": "  0%|          | 0/500 [00:00<?, ?it/s]",
      "application/vnd.jupyter.widget-view+json": {
       "version_major": 2,
       "version_minor": 0,
       "model_id": "840ba8f6909d4a399a858b2585b17f73"
      }
     },
     "metadata": {},
     "output_type": "display_data"
    },
    {
     "data": {
      "text/plain": "<Figure size 864x216 with 3 Axes>",
      "image/png": "[encoded data removed]"
     },
     "metadata": {},
     "output_type": "display_data"
    }
   ],
   "source": [
    "reviews = scrapping_movie_reviews(movies[2])\n",
    "reviews = reviews.head(500)\n",
    "res = {}\n",
    "for i, row in tqdm(reviews.iterrows(), total=len(reviews)):\n",
    "    try:\n",
    "        text = row['review']\n",
    "        myid = row['index']\n",
    "        roberta_result = polarity_scores_roberta(text)\n",
    "        res[myid] = roberta_result\n",
    "    except RuntimeError :\n",
    "        continue\n",
    "    except IndexError:\n",
    "        continue\n",
    "\n",
    "Interstellar = pd.DataFrame(res).T\n",
    "Interstellar = Interstellar.reset_index()\n",
    "Interstellar = Interstellar.merge(reviews, how='left')\n",
    "Interstellar = Interstellar.sort_values('index')\n",
    "Interstellar.to_csv(\"Interstellar.csv\")\n",
    "fig, axs = plt.subplots(1, 3, figsize=(12, 3))\n",
    "sns.barplot(data=Interstellar, x='rating', y='pos', ax=axs[0])\n",
    "sns.barplot(data=Interstellar, x='rating', y='neu', ax=axs[1])\n",
    "sns.barplot(data=Interstellar, x='rating', y='neg', ax=axs[2])\n",
    "axs[0].set_title('Positive')\n",
    "axs[1].set_title('Neutral')\n",
    "axs[2].set_title('Negative')\n",
    "plt.tight_layout()\n",
    "plt.show()"
   ]
  },
  {
   "cell_type": "markdown",
   "metadata": {
    "collapsed": false,
    "pycharm": {
     "name": "#%% md\n"
    }
   },
   "source": [
    "### 4th movie : The Avengers"
   ]
  },
  {
   "cell_type": "code",
   "execution_count": 21,
   "metadata": {
    "collapsed": false,
    "pycharm": {
     "name": "#%%\n"
    }
   },
   "outputs": [
    {
     "data": {
      "text/plain": "  0%|          | 0/613 [00:00<?, ?it/s]",
      "application/vnd.jupyter.widget-view+json": {
       "version_major": 2,
       "version_minor": 0,
       "model_id": "e549038f0c1541e7bc39ef45f3c96f35"
      }
     },
     "metadata": {},
     "output_type": "display_data"
    },
    {
     "data": {
      "text/plain": "  0%|          | 0/500 [00:00<?, ?it/s]",
      "application/vnd.jupyter.widget-view+json": {
       "version_major": 2,
       "version_minor": 0,
       "model_id": "bfdf30bc953e4e78855cc5060cf8db58"
      }
     },
     "metadata": {},
     "output_type": "display_data"
    },
    {
     "data": {
      "text/plain": "<Figure size 864x216 with 3 Axes>",
      "image/png": "[encoded data removed]"
     },
     "metadata": {},
     "output_type": "display_data"
    }
   ],
   "source": [
    "reviews = scrapping_movie_reviews(movies[3])\n",
    "reviews = reviews.head(500)\n",
    "res = {}\n",
    "for i, row in tqdm(reviews.iterrows(), total=len(reviews)):\n",
    "    try:\n",
    "        text = row['review']\n",
    "        myid = row['index']\n",
    "        roberta_result = polarity_scores_roberta(text)\n",
    "        res[myid] = roberta_result\n",
    "    except RuntimeError :\n",
    "        continue\n",
    "    except IndexError:\n",
    "        continue\n",
    "\n",
    "Avengers = pd.DataFrame(res).T\n",
    "Avengers = Avengers.reset_index()\n",
    "Avengers = Avengers.merge(reviews, how='left')\n",
    "Avengers = Avengers.sort_values('index')\n",
    "Avengers.to_csv('Avengers.csv')\n",
    "fig, axs = plt.subplots(1, 3, figsize=(12, 3))\n",
    "sns.barplot(data=Avengers, x='rating', y='pos', ax=axs[0])\n",
    "sns.barplot(data=Avengers, x='rating', y='neu', ax=axs[1])\n",
    "sns.barplot(data=Avengers, x='rating', y='neg', ax=axs[2])\n",
    "axs[0].set_title('Positive')\n",
    "axs[1].set_title('Neutral')\n",
    "axs[2].set_title('Negative')\n",
    "plt.tight_layout()\n",
    "plt.show()"
   ]
  },
  {
   "cell_type": "markdown",
   "metadata": {
    "collapsed": false,
    "pycharm": {
     "name": "#%% md\n"
    }
   },
   "source": [
    "### 5th movie : Star Wars"
   ]
  },
  {
   "cell_type": "code",
   "execution_count": 22,
   "metadata": {
    "collapsed": false,
    "pycharm": {
     "name": "#%%\n"
    }
   },
   "outputs": [
    {
     "data": {
      "text/plain": "  0%|          | 0/613 [00:00<?, ?it/s]",
      "application/vnd.jupyter.widget-view+json": {
       "version_major": 2,
       "version_minor": 0,
       "model_id": "0660ce4423244c45bddee03f640c3368"
      }
     },
     "metadata": {},
     "output_type": "display_data"
    },
    {
     "data": {
      "text/plain": "  0%|          | 0/500 [00:00<?, ?it/s]",
      "application/vnd.jupyter.widget-view+json": {
       "version_major": 2,
       "version_minor": 0,
       "model_id": "ab64dcaae1a34cde84f5b46ee6cb89a1"
      }
     },
     "metadata": {},
     "output_type": "display_data"
    },
    {
     "data": {
      "text/plain": "<Figure size 864x216 with 3 Axes>",
      "image/png": "[encoded data removed]"
     },
     "metadata": {},
     "output_type": "display_data"
    }
   ],
   "source": [
    "reviews = scrapping_movie_reviews(movies[4])\n",
    "reviews = reviews.head(500)\n",
    "res = {}\n",
    "for i, row in tqdm(reviews.iterrows(), total=len(reviews)):\n",
    "    try:\n",
    "        text = row['review']\n",
    "        myid = row['index']\n",
    "        roberta_result = polarity_scores_roberta(text)\n",
    "        res[myid] = roberta_result\n",
    "    except RuntimeError :\n",
    "        continue\n",
    "    except IndexError:\n",
    "        continue\n",
    "\n",
    "Star_Wars = pd.DataFrame(res).T\n",
    "Star_Wars = Star_Wars.reset_index()\n",
    "Star_Wars = Star_Wars.merge(reviews, how='left')\n",
    "Star_Wars = Star_Wars.sort_values('index')\n",
    "Star_Wars.to_csv('Star_Wars.csv')\n",
    "fig, axs = plt.subplots(1, 3, figsize=(12, 3))\n",
    "sns.barplot(data=Star_Wars, x='rating', y='pos', ax=axs[0])\n",
    "sns.barplot(data=Star_Wars, x='rating', y='neu', ax=axs[1])\n",
    "sns.barplot(data=Star_Wars, x='rating', y='neg', ax=axs[2])\n",
    "axs[0].set_title('Positive')\n",
    "axs[1].set_title('Neutral')\n",
    "axs[2].set_title('Negative')\n",
    "plt.tight_layout()\n",
    "plt.show()"
   ]
  }
 ],
 "metadata": {
  "kernelspec": {
   "display_name": "Python 3.11.0 64-bit",
   "language": "python",
   "name": "python3"
  },
  "language_info": {
   "codemirror_mode": {
    "name": "ipython",
    "version": 3
   },
   "file_extension": ".py",
   "mimetype": "text/x-python",
   "name": "python",
   "nbconvert_exporter": "python",
   "pygments_lexer": "ipython3",
   "version": "3.11.0"
  },
  "vscode": {
   "interpreter": {
    "hash": "c261aea317cc0286b3b3261fbba9abdec21eaa57589985bb7a274bf54d6cc0a7"
   }
  }
 },
 "nbformat": 4,
 "nbformat_minor": 1
}